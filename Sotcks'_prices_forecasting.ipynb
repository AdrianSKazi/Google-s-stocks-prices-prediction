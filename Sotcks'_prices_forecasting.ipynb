{
  "nbformat": 4,
  "nbformat_minor": 0,
  "metadata": {
    "colab": {
      "name": "Sotcks' prices forecasting.ipynb",
      "provenance": [],
      "collapsed_sections": [],
      "toc_visible": true
    },
    "kernelspec": {
      "name": "python3",
      "display_name": "Python 3"
    }
  },
  "cells": [
    {
      "cell_type": "markdown",
      "metadata": {
        "id": "UrZdaXHhLA9d",
        "colab_type": "text"
      },
      "source": [
        "#Importing libraries"
      ]
    },
    {
      "cell_type": "code",
      "metadata": {
        "id": "Y5Zv7lNL2ET9",
        "colab_type": "code",
        "colab": {}
      },
      "source": [
        "import numpy as np\n",
        "import pandas as pd\n",
        "import seaborn as sns\n",
        "import matplotlib.pyplot as plt\n",
        "%matplotlib inline"
      ],
      "execution_count": null,
      "outputs": []
    },
    {
      "cell_type": "markdown",
      "metadata": {
        "id": "a0de6m9O2WI-",
        "colab_type": "text"
      },
      "source": [
        ""
      ]
    },
    {
      "cell_type": "markdown",
      "metadata": {
        "id": "wjO3JeBpLEdu",
        "colab_type": "text"
      },
      "source": [
        "#Importing dataset"
      ]
    },
    {
      "cell_type": "code",
      "metadata": {
        "id": "E6cm3r_BYr97",
        "colab_type": "code",
        "colab": {
          "base_uri": "https://localhost:8080/",
          "height": 204
        },
        "outputId": "39b6e6b5-9735-4546-e412-bd11a674ec84"
      },
      "source": [
        "google = pd.read_csv('GOOGL.csv')\n",
        "google.tail()"
      ],
      "execution_count": 2,
      "outputs": [
        {
          "output_type": "execute_result",
          "data": {
            "text/html": [
              "<div>\n",
              "<style scoped>\n",
              "    .dataframe tbody tr th:only-of-type {\n",
              "        vertical-align: middle;\n",
              "    }\n",
              "\n",
              "    .dataframe tbody tr th {\n",
              "        vertical-align: top;\n",
              "    }\n",
              "\n",
              "    .dataframe thead th {\n",
              "        text-align: right;\n",
              "    }\n",
              "</style>\n",
              "<table border=\"1\" class=\"dataframe\">\n",
              "  <thead>\n",
              "    <tr style=\"text-align: right;\">\n",
              "      <th></th>\n",
              "      <th>Date</th>\n",
              "      <th>Open</th>\n",
              "      <th>High</th>\n",
              "      <th>Low</th>\n",
              "      <th>Close</th>\n",
              "      <th>Adj Close</th>\n",
              "      <th>Volume</th>\n",
              "    </tr>\n",
              "  </thead>\n",
              "  <tbody>\n",
              "    <tr>\n",
              "      <th>3927</th>\n",
              "      <td>2020-03-26</td>\n",
              "      <td>1114.719971</td>\n",
              "      <td>1171.479980</td>\n",
              "      <td>1092.030029</td>\n",
              "      <td>1162.920044</td>\n",
              "      <td>1162.920044</td>\n",
              "      <td>3828100</td>\n",
              "    </tr>\n",
              "    <tr>\n",
              "      <th>3928</th>\n",
              "      <td>2020-03-27</td>\n",
              "      <td>1127.469971</td>\n",
              "      <td>1151.050049</td>\n",
              "      <td>1104.000000</td>\n",
              "      <td>1110.260010</td>\n",
              "      <td>1110.260010</td>\n",
              "      <td>3139700</td>\n",
              "    </tr>\n",
              "    <tr>\n",
              "      <th>3929</th>\n",
              "      <td>2020-03-30</td>\n",
              "      <td>1132.640015</td>\n",
              "      <td>1151.000000</td>\n",
              "      <td>1098.489990</td>\n",
              "      <td>1146.310059</td>\n",
              "      <td>1146.310059</td>\n",
              "      <td>2936800</td>\n",
              "    </tr>\n",
              "    <tr>\n",
              "      <th>3930</th>\n",
              "      <td>2020-03-31</td>\n",
              "      <td>1148.729980</td>\n",
              "      <td>1173.400024</td>\n",
              "      <td>1136.719971</td>\n",
              "      <td>1161.949951</td>\n",
              "      <td>1161.949951</td>\n",
              "      <td>3261400</td>\n",
              "    </tr>\n",
              "    <tr>\n",
              "      <th>3931</th>\n",
              "      <td>2020-04-01</td>\n",
              "      <td>1124.000000</td>\n",
              "      <td>1129.420044</td>\n",
              "      <td>1093.489990</td>\n",
              "      <td>1102.099976</td>\n",
              "      <td>1102.099976</td>\n",
              "      <td>2597100</td>\n",
              "    </tr>\n",
              "  </tbody>\n",
              "</table>\n",
              "</div>"
            ],
            "text/plain": [
              "            Date         Open         High  ...        Close    Adj Close   Volume\n",
              "3927  2020-03-26  1114.719971  1171.479980  ...  1162.920044  1162.920044  3828100\n",
              "3928  2020-03-27  1127.469971  1151.050049  ...  1110.260010  1110.260010  3139700\n",
              "3929  2020-03-30  1132.640015  1151.000000  ...  1146.310059  1146.310059  2936800\n",
              "3930  2020-03-31  1148.729980  1173.400024  ...  1161.949951  1161.949951  3261400\n",
              "3931  2020-04-01  1124.000000  1129.420044  ...  1102.099976  1102.099976  2597100\n",
              "\n",
              "[5 rows x 7 columns]"
            ]
          },
          "metadata": {
            "tags": []
          },
          "execution_count": 2
        }
      ]
    },
    {
      "cell_type": "code",
      "metadata": {
        "id": "097RXCPRYxbY",
        "colab_type": "code",
        "colab": {
          "base_uri": "https://localhost:8080/",
          "height": 255
        },
        "outputId": "3fe1108a-043a-438a-f7e1-f27275b68314"
      },
      "source": [
        "google.info()"
      ],
      "execution_count": 3,
      "outputs": [
        {
          "output_type": "stream",
          "text": [
            "<class 'pandas.core.frame.DataFrame'>\n",
            "RangeIndex: 3932 entries, 0 to 3931\n",
            "Data columns (total 7 columns):\n",
            " #   Column     Non-Null Count  Dtype  \n",
            "---  ------     --------------  -----  \n",
            " 0   Date       3932 non-null   object \n",
            " 1   Open       3932 non-null   float64\n",
            " 2   High       3932 non-null   float64\n",
            " 3   Low        3932 non-null   float64\n",
            " 4   Close      3932 non-null   float64\n",
            " 5   Adj Close  3932 non-null   float64\n",
            " 6   Volume     3932 non-null   int64  \n",
            "dtypes: float64(5), int64(1), object(1)\n",
            "memory usage: 215.2+ KB\n"
          ],
          "name": "stdout"
        }
      ]
    },
    {
      "cell_type": "markdown",
      "metadata": {
        "id": "y3okvToROsp5",
        "colab_type": "text"
      },
      "source": [
        "As we have only one feature which can be independent variable we will leave only two columns 'Date' and 'Close'."
      ]
    },
    {
      "cell_type": "code",
      "metadata": {
        "id": "zjYmvKoIPLHb",
        "colab_type": "code",
        "colab": {}
      },
      "source": [
        "google.drop(['Open','High','Low','Adj Close','Volume'], axis=1, inplace=True)"
      ],
      "execution_count": 4,
      "outputs": []
    },
    {
      "cell_type": "code",
      "metadata": {
        "id": "1IGIbQSiPWe8",
        "colab_type": "code",
        "colab": {
          "base_uri": "https://localhost:8080/",
          "height": 204
        },
        "outputId": "fd2b74dd-5190-452a-fa97-d178fa210af5"
      },
      "source": [
        "google.head()"
      ],
      "execution_count": 5,
      "outputs": [
        {
          "output_type": "execute_result",
          "data": {
            "text/html": [
              "<div>\n",
              "<style scoped>\n",
              "    .dataframe tbody tr th:only-of-type {\n",
              "        vertical-align: middle;\n",
              "    }\n",
              "\n",
              "    .dataframe tbody tr th {\n",
              "        vertical-align: top;\n",
              "    }\n",
              "\n",
              "    .dataframe thead th {\n",
              "        text-align: right;\n",
              "    }\n",
              "</style>\n",
              "<table border=\"1\" class=\"dataframe\">\n",
              "  <thead>\n",
              "    <tr style=\"text-align: right;\">\n",
              "      <th></th>\n",
              "      <th>Date</th>\n",
              "      <th>Close</th>\n",
              "    </tr>\n",
              "  </thead>\n",
              "  <tbody>\n",
              "    <tr>\n",
              "      <th>0</th>\n",
              "      <td>2004-08-19</td>\n",
              "      <td>50.220219</td>\n",
              "    </tr>\n",
              "    <tr>\n",
              "      <th>1</th>\n",
              "      <td>2004-08-20</td>\n",
              "      <td>54.209209</td>\n",
              "    </tr>\n",
              "    <tr>\n",
              "      <th>2</th>\n",
              "      <td>2004-08-23</td>\n",
              "      <td>54.754753</td>\n",
              "    </tr>\n",
              "    <tr>\n",
              "      <th>3</th>\n",
              "      <td>2004-08-24</td>\n",
              "      <td>52.487488</td>\n",
              "    </tr>\n",
              "    <tr>\n",
              "      <th>4</th>\n",
              "      <td>2004-08-25</td>\n",
              "      <td>53.053055</td>\n",
              "    </tr>\n",
              "  </tbody>\n",
              "</table>\n",
              "</div>"
            ],
            "text/plain": [
              "         Date      Close\n",
              "0  2004-08-19  50.220219\n",
              "1  2004-08-20  54.209209\n",
              "2  2004-08-23  54.754753\n",
              "3  2004-08-24  52.487488\n",
              "4  2004-08-25  53.053055"
            ]
          },
          "metadata": {
            "tags": []
          },
          "execution_count": 5
        }
      ]
    },
    {
      "cell_type": "markdown",
      "metadata": {
        "id": "_XRzxrDjLPhR",
        "colab_type": "text"
      },
      "source": [
        "#Handling categorical data"
      ]
    },
    {
      "cell_type": "markdown",
      "metadata": {
        "id": "fBr30JuCPb5A",
        "colab_type": "text"
      },
      "source": [
        "Now I will handle with categorical data which is 'Date' column. I'm going to replace string date with integers of 'Year','Month' and 'Day'"
      ]
    },
    {
      "cell_type": "code",
      "metadata": {
        "id": "rQ3D-GJ2Yzfs",
        "colab_type": "code",
        "colab": {
          "base_uri": "https://localhost:8080/",
          "height": 34
        },
        "outputId": "69cd7eff-ec25-4a25-b723-949f1f0dc117"
      },
      "source": [
        "type(google['Date'][0])"
      ],
      "execution_count": 6,
      "outputs": [
        {
          "output_type": "execute_result",
          "data": {
            "text/plain": [
              "str"
            ]
          },
          "metadata": {
            "tags": []
          },
          "execution_count": 6
        }
      ]
    },
    {
      "cell_type": "markdown",
      "metadata": {
        "id": "4BznkjN3PuG9",
        "colab_type": "text"
      },
      "source": [
        "Below function which will add new column for each feature: 'Year', 'Month' and 'Day'"
      ]
    },
    {
      "cell_type": "code",
      "metadata": {
        "id": "KdAwpeg-Y6ET",
        "colab_type": "code",
        "colab": {}
      },
      "source": [
        "def year(a):\n",
        "  year = int(a.split('-')[0])\n",
        "  return year\n",
        "\n",
        "def month(a):\n",
        "  month = int(a.split('-')[1])\n",
        "  return month\n",
        "\n",
        "def day(a):\n",
        "  day = int(a.split('-')[2])\n",
        "  return day"
      ],
      "execution_count": 7,
      "outputs": []
    },
    {
      "cell_type": "markdown",
      "metadata": {
        "id": "BoXoMV-nP74x",
        "colab_type": "text"
      },
      "source": [
        "Let's now run the function"
      ]
    },
    {
      "cell_type": "code",
      "metadata": {
        "id": "lAvPqVTeP7kA",
        "colab_type": "code",
        "colab": {}
      },
      "source": [
        "google['Year'] = google['Date'].apply(year)\n",
        "google['Month'] = google['Date'].apply(month)\n",
        "google['Day'] = google['Date'].apply(day)"
      ],
      "execution_count": 8,
      "outputs": []
    },
    {
      "cell_type": "code",
      "metadata": {
        "id": "3DXEMm3oc-MV",
        "colab_type": "code",
        "colab": {
          "base_uri": "https://localhost:8080/",
          "height": 204
        },
        "outputId": "9b145f29-ba59-4610-edfb-4ce0f614bfaa"
      },
      "source": [
        "google.head()"
      ],
      "execution_count": 9,
      "outputs": [
        {
          "output_type": "execute_result",
          "data": {
            "text/html": [
              "<div>\n",
              "<style scoped>\n",
              "    .dataframe tbody tr th:only-of-type {\n",
              "        vertical-align: middle;\n",
              "    }\n",
              "\n",
              "    .dataframe tbody tr th {\n",
              "        vertical-align: top;\n",
              "    }\n",
              "\n",
              "    .dataframe thead th {\n",
              "        text-align: right;\n",
              "    }\n",
              "</style>\n",
              "<table border=\"1\" class=\"dataframe\">\n",
              "  <thead>\n",
              "    <tr style=\"text-align: right;\">\n",
              "      <th></th>\n",
              "      <th>Date</th>\n",
              "      <th>Close</th>\n",
              "      <th>Year</th>\n",
              "      <th>Month</th>\n",
              "      <th>Day</th>\n",
              "    </tr>\n",
              "  </thead>\n",
              "  <tbody>\n",
              "    <tr>\n",
              "      <th>0</th>\n",
              "      <td>2004-08-19</td>\n",
              "      <td>50.220219</td>\n",
              "      <td>2004</td>\n",
              "      <td>8</td>\n",
              "      <td>19</td>\n",
              "    </tr>\n",
              "    <tr>\n",
              "      <th>1</th>\n",
              "      <td>2004-08-20</td>\n",
              "      <td>54.209209</td>\n",
              "      <td>2004</td>\n",
              "      <td>8</td>\n",
              "      <td>20</td>\n",
              "    </tr>\n",
              "    <tr>\n",
              "      <th>2</th>\n",
              "      <td>2004-08-23</td>\n",
              "      <td>54.754753</td>\n",
              "      <td>2004</td>\n",
              "      <td>8</td>\n",
              "      <td>23</td>\n",
              "    </tr>\n",
              "    <tr>\n",
              "      <th>3</th>\n",
              "      <td>2004-08-24</td>\n",
              "      <td>52.487488</td>\n",
              "      <td>2004</td>\n",
              "      <td>8</td>\n",
              "      <td>24</td>\n",
              "    </tr>\n",
              "    <tr>\n",
              "      <th>4</th>\n",
              "      <td>2004-08-25</td>\n",
              "      <td>53.053055</td>\n",
              "      <td>2004</td>\n",
              "      <td>8</td>\n",
              "      <td>25</td>\n",
              "    </tr>\n",
              "  </tbody>\n",
              "</table>\n",
              "</div>"
            ],
            "text/plain": [
              "         Date      Close  Year  Month  Day\n",
              "0  2004-08-19  50.220219  2004      8   19\n",
              "1  2004-08-20  54.209209  2004      8   20\n",
              "2  2004-08-23  54.754753  2004      8   23\n",
              "3  2004-08-24  52.487488  2004      8   24\n",
              "4  2004-08-25  53.053055  2004      8   25"
            ]
          },
          "metadata": {
            "tags": []
          },
          "execution_count": 9
        }
      ]
    },
    {
      "cell_type": "markdown",
      "metadata": {
        "id": "TVIhbH2hQRn3",
        "colab_type": "text"
      },
      "source": [
        "For now I will leave 'Date' column for further purposes"
      ]
    },
    {
      "cell_type": "markdown",
      "metadata": {
        "id": "jLC_c4wYa0GS",
        "colab_type": "text"
      },
      "source": [
        "##Missing Values"
      ]
    },
    {
      "cell_type": "code",
      "metadata": {
        "id": "7qdRSllMaX-Z",
        "colab_type": "code",
        "colab": {
          "base_uri": "https://localhost:8080/",
          "height": 419
        },
        "outputId": "b0d3819a-7cb6-4f91-d3f2-41ff835b547e"
      },
      "source": [
        "google.isnull()"
      ],
      "execution_count": 10,
      "outputs": [
        {
          "output_type": "execute_result",
          "data": {
            "text/html": [
              "<div>\n",
              "<style scoped>\n",
              "    .dataframe tbody tr th:only-of-type {\n",
              "        vertical-align: middle;\n",
              "    }\n",
              "\n",
              "    .dataframe tbody tr th {\n",
              "        vertical-align: top;\n",
              "    }\n",
              "\n",
              "    .dataframe thead th {\n",
              "        text-align: right;\n",
              "    }\n",
              "</style>\n",
              "<table border=\"1\" class=\"dataframe\">\n",
              "  <thead>\n",
              "    <tr style=\"text-align: right;\">\n",
              "      <th></th>\n",
              "      <th>Date</th>\n",
              "      <th>Close</th>\n",
              "      <th>Year</th>\n",
              "      <th>Month</th>\n",
              "      <th>Day</th>\n",
              "    </tr>\n",
              "  </thead>\n",
              "  <tbody>\n",
              "    <tr>\n",
              "      <th>0</th>\n",
              "      <td>False</td>\n",
              "      <td>False</td>\n",
              "      <td>False</td>\n",
              "      <td>False</td>\n",
              "      <td>False</td>\n",
              "    </tr>\n",
              "    <tr>\n",
              "      <th>1</th>\n",
              "      <td>False</td>\n",
              "      <td>False</td>\n",
              "      <td>False</td>\n",
              "      <td>False</td>\n",
              "      <td>False</td>\n",
              "    </tr>\n",
              "    <tr>\n",
              "      <th>2</th>\n",
              "      <td>False</td>\n",
              "      <td>False</td>\n",
              "      <td>False</td>\n",
              "      <td>False</td>\n",
              "      <td>False</td>\n",
              "    </tr>\n",
              "    <tr>\n",
              "      <th>3</th>\n",
              "      <td>False</td>\n",
              "      <td>False</td>\n",
              "      <td>False</td>\n",
              "      <td>False</td>\n",
              "      <td>False</td>\n",
              "    </tr>\n",
              "    <tr>\n",
              "      <th>4</th>\n",
              "      <td>False</td>\n",
              "      <td>False</td>\n",
              "      <td>False</td>\n",
              "      <td>False</td>\n",
              "      <td>False</td>\n",
              "    </tr>\n",
              "    <tr>\n",
              "      <th>...</th>\n",
              "      <td>...</td>\n",
              "      <td>...</td>\n",
              "      <td>...</td>\n",
              "      <td>...</td>\n",
              "      <td>...</td>\n",
              "    </tr>\n",
              "    <tr>\n",
              "      <th>3927</th>\n",
              "      <td>False</td>\n",
              "      <td>False</td>\n",
              "      <td>False</td>\n",
              "      <td>False</td>\n",
              "      <td>False</td>\n",
              "    </tr>\n",
              "    <tr>\n",
              "      <th>3928</th>\n",
              "      <td>False</td>\n",
              "      <td>False</td>\n",
              "      <td>False</td>\n",
              "      <td>False</td>\n",
              "      <td>False</td>\n",
              "    </tr>\n",
              "    <tr>\n",
              "      <th>3929</th>\n",
              "      <td>False</td>\n",
              "      <td>False</td>\n",
              "      <td>False</td>\n",
              "      <td>False</td>\n",
              "      <td>False</td>\n",
              "    </tr>\n",
              "    <tr>\n",
              "      <th>3930</th>\n",
              "      <td>False</td>\n",
              "      <td>False</td>\n",
              "      <td>False</td>\n",
              "      <td>False</td>\n",
              "      <td>False</td>\n",
              "    </tr>\n",
              "    <tr>\n",
              "      <th>3931</th>\n",
              "      <td>False</td>\n",
              "      <td>False</td>\n",
              "      <td>False</td>\n",
              "      <td>False</td>\n",
              "      <td>False</td>\n",
              "    </tr>\n",
              "  </tbody>\n",
              "</table>\n",
              "<p>3932 rows × 5 columns</p>\n",
              "</div>"
            ],
            "text/plain": [
              "       Date  Close   Year  Month    Day\n",
              "0     False  False  False  False  False\n",
              "1     False  False  False  False  False\n",
              "2     False  False  False  False  False\n",
              "3     False  False  False  False  False\n",
              "4     False  False  False  False  False\n",
              "...     ...    ...    ...    ...    ...\n",
              "3927  False  False  False  False  False\n",
              "3928  False  False  False  False  False\n",
              "3929  False  False  False  False  False\n",
              "3930  False  False  False  False  False\n",
              "3931  False  False  False  False  False\n",
              "\n",
              "[3932 rows x 5 columns]"
            ]
          },
          "metadata": {
            "tags": []
          },
          "execution_count": 10
        }
      ]
    },
    {
      "cell_type": "code",
      "metadata": {
        "id": "ZWZyLuinabam",
        "colab_type": "code",
        "colab": {
          "base_uri": "https://localhost:8080/",
          "height": 119
        },
        "outputId": "0de7b8f0-15f0-4878-9bc4-4fff9d95a30f"
      },
      "source": [
        "google.isnull().nunique()"
      ],
      "execution_count": 11,
      "outputs": [
        {
          "output_type": "execute_result",
          "data": {
            "text/plain": [
              "Date     1\n",
              "Close    1\n",
              "Year     1\n",
              "Month    1\n",
              "Day      1\n",
              "dtype: int64"
            ]
          },
          "metadata": {
            "tags": []
          },
          "execution_count": 11
        }
      ]
    },
    {
      "cell_type": "markdown",
      "metadata": {
        "id": "mc_B9EtLbVTT",
        "colab_type": "text"
      },
      "source": [
        "As we can see the only value in isnull() method is False, conclusion is that we have no missing values."
      ]
    },
    {
      "cell_type": "code",
      "metadata": {
        "id": "SoniSkqoWY4g",
        "colab_type": "code",
        "colab": {
          "base_uri": "https://localhost:8080/",
          "height": 979
        },
        "outputId": "d91b7bcc-2b0e-46ef-b419-f4d028cda963"
      },
      "source": [
        "google.tail(30)"
      ],
      "execution_count": 12,
      "outputs": [
        {
          "output_type": "execute_result",
          "data": {
            "text/html": [
              "<div>\n",
              "<style scoped>\n",
              "    .dataframe tbody tr th:only-of-type {\n",
              "        vertical-align: middle;\n",
              "    }\n",
              "\n",
              "    .dataframe tbody tr th {\n",
              "        vertical-align: top;\n",
              "    }\n",
              "\n",
              "    .dataframe thead th {\n",
              "        text-align: right;\n",
              "    }\n",
              "</style>\n",
              "<table border=\"1\" class=\"dataframe\">\n",
              "  <thead>\n",
              "    <tr style=\"text-align: right;\">\n",
              "      <th></th>\n",
              "      <th>Date</th>\n",
              "      <th>Close</th>\n",
              "      <th>Year</th>\n",
              "      <th>Month</th>\n",
              "      <th>Day</th>\n",
              "    </tr>\n",
              "  </thead>\n",
              "  <tbody>\n",
              "    <tr>\n",
              "      <th>3902</th>\n",
              "      <td>2020-02-20</td>\n",
              "      <td>1516.989990</td>\n",
              "      <td>2020</td>\n",
              "      <td>2</td>\n",
              "      <td>20</td>\n",
              "    </tr>\n",
              "    <tr>\n",
              "      <th>3903</th>\n",
              "      <td>2020-02-21</td>\n",
              "      <td>1483.459961</td>\n",
              "      <td>2020</td>\n",
              "      <td>2</td>\n",
              "      <td>21</td>\n",
              "    </tr>\n",
              "    <tr>\n",
              "      <th>3904</th>\n",
              "      <td>2020-02-24</td>\n",
              "      <td>1419.859985</td>\n",
              "      <td>2020</td>\n",
              "      <td>2</td>\n",
              "      <td>24</td>\n",
              "    </tr>\n",
              "    <tr>\n",
              "      <th>3905</th>\n",
              "      <td>2020-02-25</td>\n",
              "      <td>1386.319946</td>\n",
              "      <td>2020</td>\n",
              "      <td>2</td>\n",
              "      <td>25</td>\n",
              "    </tr>\n",
              "    <tr>\n",
              "      <th>3906</th>\n",
              "      <td>2020-02-26</td>\n",
              "      <td>1390.469971</td>\n",
              "      <td>2020</td>\n",
              "      <td>2</td>\n",
              "      <td>26</td>\n",
              "    </tr>\n",
              "    <tr>\n",
              "      <th>3907</th>\n",
              "      <td>2020-02-27</td>\n",
              "      <td>1314.949951</td>\n",
              "      <td>2020</td>\n",
              "      <td>2</td>\n",
              "      <td>27</td>\n",
              "    </tr>\n",
              "    <tr>\n",
              "      <th>3908</th>\n",
              "      <td>2020-02-28</td>\n",
              "      <td>1339.250000</td>\n",
              "      <td>2020</td>\n",
              "      <td>2</td>\n",
              "      <td>28</td>\n",
              "    </tr>\n",
              "    <tr>\n",
              "      <th>3909</th>\n",
              "      <td>2020-03-02</td>\n",
              "      <td>1386.319946</td>\n",
              "      <td>2020</td>\n",
              "      <td>3</td>\n",
              "      <td>2</td>\n",
              "    </tr>\n",
              "    <tr>\n",
              "      <th>3910</th>\n",
              "      <td>2020-03-03</td>\n",
              "      <td>1337.719971</td>\n",
              "      <td>2020</td>\n",
              "      <td>3</td>\n",
              "      <td>3</td>\n",
              "    </tr>\n",
              "    <tr>\n",
              "      <th>3911</th>\n",
              "      <td>2020-03-04</td>\n",
              "      <td>1381.599976</td>\n",
              "      <td>2020</td>\n",
              "      <td>3</td>\n",
              "      <td>4</td>\n",
              "    </tr>\n",
              "    <tr>\n",
              "      <th>3912</th>\n",
              "      <td>2020-03-05</td>\n",
              "      <td>1314.760010</td>\n",
              "      <td>2020</td>\n",
              "      <td>3</td>\n",
              "      <td>5</td>\n",
              "    </tr>\n",
              "    <tr>\n",
              "      <th>3913</th>\n",
              "      <td>2020-03-06</td>\n",
              "      <td>1295.739990</td>\n",
              "      <td>2020</td>\n",
              "      <td>3</td>\n",
              "      <td>6</td>\n",
              "    </tr>\n",
              "    <tr>\n",
              "      <th>3914</th>\n",
              "      <td>2020-03-09</td>\n",
              "      <td>1215.790039</td>\n",
              "      <td>2020</td>\n",
              "      <td>3</td>\n",
              "      <td>9</td>\n",
              "    </tr>\n",
              "    <tr>\n",
              "      <th>3915</th>\n",
              "      <td>2020-03-10</td>\n",
              "      <td>1275.170044</td>\n",
              "      <td>2020</td>\n",
              "      <td>3</td>\n",
              "      <td>10</td>\n",
              "    </tr>\n",
              "    <tr>\n",
              "      <th>3916</th>\n",
              "      <td>2020-03-11</td>\n",
              "      <td>1210.900024</td>\n",
              "      <td>2020</td>\n",
              "      <td>3</td>\n",
              "      <td>11</td>\n",
              "    </tr>\n",
              "    <tr>\n",
              "      <th>3917</th>\n",
              "      <td>2020-03-12</td>\n",
              "      <td>1111.550049</td>\n",
              "      <td>2020</td>\n",
              "      <td>3</td>\n",
              "      <td>12</td>\n",
              "    </tr>\n",
              "    <tr>\n",
              "      <th>3918</th>\n",
              "      <td>2020-03-13</td>\n",
              "      <td>1214.270020</td>\n",
              "      <td>2020</td>\n",
              "      <td>3</td>\n",
              "      <td>13</td>\n",
              "    </tr>\n",
              "    <tr>\n",
              "      <th>3919</th>\n",
              "      <td>2020-03-16</td>\n",
              "      <td>1073.000000</td>\n",
              "      <td>2020</td>\n",
              "      <td>3</td>\n",
              "      <td>16</td>\n",
              "    </tr>\n",
              "    <tr>\n",
              "      <th>3920</th>\n",
              "      <td>2020-03-17</td>\n",
              "      <td>1118.060059</td>\n",
              "      <td>2020</td>\n",
              "      <td>3</td>\n",
              "      <td>17</td>\n",
              "    </tr>\n",
              "    <tr>\n",
              "      <th>3921</th>\n",
              "      <td>2020-03-18</td>\n",
              "      <td>1091.189941</td>\n",
              "      <td>2020</td>\n",
              "      <td>3</td>\n",
              "      <td>18</td>\n",
              "    </tr>\n",
              "    <tr>\n",
              "      <th>3922</th>\n",
              "      <td>2020-03-19</td>\n",
              "      <td>1111.670044</td>\n",
              "      <td>2020</td>\n",
              "      <td>3</td>\n",
              "      <td>19</td>\n",
              "    </tr>\n",
              "    <tr>\n",
              "      <th>3923</th>\n",
              "      <td>2020-03-20</td>\n",
              "      <td>1068.209961</td>\n",
              "      <td>2020</td>\n",
              "      <td>3</td>\n",
              "      <td>20</td>\n",
              "    </tr>\n",
              "    <tr>\n",
              "      <th>3924</th>\n",
              "      <td>2020-03-23</td>\n",
              "      <td>1054.130005</td>\n",
              "      <td>2020</td>\n",
              "      <td>3</td>\n",
              "      <td>23</td>\n",
              "    </tr>\n",
              "    <tr>\n",
              "      <th>3925</th>\n",
              "      <td>2020-03-24</td>\n",
              "      <td>1130.010010</td>\n",
              "      <td>2020</td>\n",
              "      <td>3</td>\n",
              "      <td>24</td>\n",
              "    </tr>\n",
              "    <tr>\n",
              "      <th>3926</th>\n",
              "      <td>2020-03-25</td>\n",
              "      <td>1101.619995</td>\n",
              "      <td>2020</td>\n",
              "      <td>3</td>\n",
              "      <td>25</td>\n",
              "    </tr>\n",
              "    <tr>\n",
              "      <th>3927</th>\n",
              "      <td>2020-03-26</td>\n",
              "      <td>1162.920044</td>\n",
              "      <td>2020</td>\n",
              "      <td>3</td>\n",
              "      <td>26</td>\n",
              "    </tr>\n",
              "    <tr>\n",
              "      <th>3928</th>\n",
              "      <td>2020-03-27</td>\n",
              "      <td>1110.260010</td>\n",
              "      <td>2020</td>\n",
              "      <td>3</td>\n",
              "      <td>27</td>\n",
              "    </tr>\n",
              "    <tr>\n",
              "      <th>3929</th>\n",
              "      <td>2020-03-30</td>\n",
              "      <td>1146.310059</td>\n",
              "      <td>2020</td>\n",
              "      <td>3</td>\n",
              "      <td>30</td>\n",
              "    </tr>\n",
              "    <tr>\n",
              "      <th>3930</th>\n",
              "      <td>2020-03-31</td>\n",
              "      <td>1161.949951</td>\n",
              "      <td>2020</td>\n",
              "      <td>3</td>\n",
              "      <td>31</td>\n",
              "    </tr>\n",
              "    <tr>\n",
              "      <th>3931</th>\n",
              "      <td>2020-04-01</td>\n",
              "      <td>1102.099976</td>\n",
              "      <td>2020</td>\n",
              "      <td>4</td>\n",
              "      <td>1</td>\n",
              "    </tr>\n",
              "  </tbody>\n",
              "</table>\n",
              "</div>"
            ],
            "text/plain": [
              "            Date        Close  Year  Month  Day\n",
              "3902  2020-02-20  1516.989990  2020      2   20\n",
              "3903  2020-02-21  1483.459961  2020      2   21\n",
              "3904  2020-02-24  1419.859985  2020      2   24\n",
              "3905  2020-02-25  1386.319946  2020      2   25\n",
              "3906  2020-02-26  1390.469971  2020      2   26\n",
              "3907  2020-02-27  1314.949951  2020      2   27\n",
              "3908  2020-02-28  1339.250000  2020      2   28\n",
              "3909  2020-03-02  1386.319946  2020      3    2\n",
              "3910  2020-03-03  1337.719971  2020      3    3\n",
              "3911  2020-03-04  1381.599976  2020      3    4\n",
              "3912  2020-03-05  1314.760010  2020      3    5\n",
              "3913  2020-03-06  1295.739990  2020      3    6\n",
              "3914  2020-03-09  1215.790039  2020      3    9\n",
              "3915  2020-03-10  1275.170044  2020      3   10\n",
              "3916  2020-03-11  1210.900024  2020      3   11\n",
              "3917  2020-03-12  1111.550049  2020      3   12\n",
              "3918  2020-03-13  1214.270020  2020      3   13\n",
              "3919  2020-03-16  1073.000000  2020      3   16\n",
              "3920  2020-03-17  1118.060059  2020      3   17\n",
              "3921  2020-03-18  1091.189941  2020      3   18\n",
              "3922  2020-03-19  1111.670044  2020      3   19\n",
              "3923  2020-03-20  1068.209961  2020      3   20\n",
              "3924  2020-03-23  1054.130005  2020      3   23\n",
              "3925  2020-03-24  1130.010010  2020      3   24\n",
              "3926  2020-03-25  1101.619995  2020      3   25\n",
              "3927  2020-03-26  1162.920044  2020      3   26\n",
              "3928  2020-03-27  1110.260010  2020      3   27\n",
              "3929  2020-03-30  1146.310059  2020      3   30\n",
              "3930  2020-03-31  1161.949951  2020      3   31\n",
              "3931  2020-04-01  1102.099976  2020      4    1"
            ]
          },
          "metadata": {
            "tags": []
          },
          "execution_count": 12
        }
      ]
    },
    {
      "cell_type": "markdown",
      "metadata": {
        "id": "GFLRi8cUXr3u",
        "colab_type": "text"
      },
      "source": [
        "For now we have to be aware that not every dates are present in dataset, f.e. 2020-03-14, 2020-03-01 and so on."
      ]
    },
    {
      "cell_type": "markdown",
      "metadata": {
        "id": "IGOXyWUlLU12",
        "colab_type": "text"
      },
      "source": [
        "#Train test split"
      ]
    },
    {
      "cell_type": "markdown",
      "metadata": {
        "id": "vTPL04ksL2x6",
        "colab_type": "text"
      },
      "source": [
        "Let's split the dataset into a training set and test set"
      ]
    },
    {
      "cell_type": "code",
      "metadata": {
        "id": "g-5_r3kklGOi",
        "colab_type": "code",
        "colab": {}
      },
      "source": [
        "from sklearn.model_selection import train_test_split\n",
        "\n",
        "X_train, X_test, y_train, y_test = train_test_split(google[['Year','Month','Day']],google['Close'])"
      ],
      "execution_count": 13,
      "outputs": []
    },
    {
      "cell_type": "markdown",
      "metadata": {
        "id": "yv-_SKeuRLGu",
        "colab_type": "text"
      },
      "source": [
        "I just want to check if everything is set properly so I will display all datasets."
      ]
    },
    {
      "cell_type": "code",
      "metadata": {
        "id": "ba0uQe6BLgOm",
        "colab_type": "code",
        "colab": {
          "base_uri": "https://localhost:8080/",
          "height": 204
        },
        "outputId": "53aa0d96-988e-4e34-a512-45c35795ee0b"
      },
      "source": [
        "X_train.head()"
      ],
      "execution_count": 14,
      "outputs": [
        {
          "output_type": "execute_result",
          "data": {
            "text/html": [
              "<div>\n",
              "<style scoped>\n",
              "    .dataframe tbody tr th:only-of-type {\n",
              "        vertical-align: middle;\n",
              "    }\n",
              "\n",
              "    .dataframe tbody tr th {\n",
              "        vertical-align: top;\n",
              "    }\n",
              "\n",
              "    .dataframe thead th {\n",
              "        text-align: right;\n",
              "    }\n",
              "</style>\n",
              "<table border=\"1\" class=\"dataframe\">\n",
              "  <thead>\n",
              "    <tr style=\"text-align: right;\">\n",
              "      <th></th>\n",
              "      <th>Year</th>\n",
              "      <th>Month</th>\n",
              "      <th>Day</th>\n",
              "    </tr>\n",
              "  </thead>\n",
              "  <tbody>\n",
              "    <tr>\n",
              "      <th>3900</th>\n",
              "      <td>2020</td>\n",
              "      <td>2</td>\n",
              "      <td>18</td>\n",
              "    </tr>\n",
              "    <tr>\n",
              "      <th>1392</th>\n",
              "      <td>2010</td>\n",
              "      <td>3</td>\n",
              "      <td>2</td>\n",
              "    </tr>\n",
              "    <tr>\n",
              "      <th>3040</th>\n",
              "      <td>2016</td>\n",
              "      <td>9</td>\n",
              "      <td>15</td>\n",
              "    </tr>\n",
              "    <tr>\n",
              "      <th>3921</th>\n",
              "      <td>2020</td>\n",
              "      <td>3</td>\n",
              "      <td>18</td>\n",
              "    </tr>\n",
              "    <tr>\n",
              "      <th>1062</th>\n",
              "      <td>2008</td>\n",
              "      <td>11</td>\n",
              "      <td>5</td>\n",
              "    </tr>\n",
              "  </tbody>\n",
              "</table>\n",
              "</div>"
            ],
            "text/plain": [
              "      Year  Month  Day\n",
              "3900  2020      2   18\n",
              "1392  2010      3    2\n",
              "3040  2016      9   15\n",
              "3921  2020      3   18\n",
              "1062  2008     11    5"
            ]
          },
          "metadata": {
            "tags": []
          },
          "execution_count": 14
        }
      ]
    },
    {
      "cell_type": "code",
      "metadata": {
        "id": "dyCngXq-LjUN",
        "colab_type": "code",
        "colab": {
          "base_uri": "https://localhost:8080/",
          "height": 204
        },
        "outputId": "4544f38b-f254-4672-b4a6-c8549acefc73"
      },
      "source": [
        "y_train = pd.DataFrame(y_train)\n",
        "y_train.head()"
      ],
      "execution_count": 15,
      "outputs": [
        {
          "output_type": "execute_result",
          "data": {
            "text/html": [
              "<div>\n",
              "<style scoped>\n",
              "    .dataframe tbody tr th:only-of-type {\n",
              "        vertical-align: middle;\n",
              "    }\n",
              "\n",
              "    .dataframe tbody tr th {\n",
              "        vertical-align: top;\n",
              "    }\n",
              "\n",
              "    .dataframe thead th {\n",
              "        text-align: right;\n",
              "    }\n",
              "</style>\n",
              "<table border=\"1\" class=\"dataframe\">\n",
              "  <thead>\n",
              "    <tr style=\"text-align: right;\">\n",
              "      <th></th>\n",
              "      <th>Close</th>\n",
              "    </tr>\n",
              "  </thead>\n",
              "  <tbody>\n",
              "    <tr>\n",
              "      <th>3900</th>\n",
              "      <td>1519.439941</td>\n",
              "    </tr>\n",
              "    <tr>\n",
              "      <th>1392</th>\n",
              "      <td>270.800812</td>\n",
              "    </tr>\n",
              "    <tr>\n",
              "      <th>3040</th>\n",
              "      <td>801.229980</td>\n",
              "    </tr>\n",
              "    <tr>\n",
              "      <th>3921</th>\n",
              "      <td>1091.189941</td>\n",
              "    </tr>\n",
              "    <tr>\n",
              "      <th>1062</th>\n",
              "      <td>171.291290</td>\n",
              "    </tr>\n",
              "  </tbody>\n",
              "</table>\n",
              "</div>"
            ],
            "text/plain": [
              "            Close\n",
              "3900  1519.439941\n",
              "1392   270.800812\n",
              "3040   801.229980\n",
              "3921  1091.189941\n",
              "1062   171.291290"
            ]
          },
          "metadata": {
            "tags": []
          },
          "execution_count": 15
        }
      ]
    },
    {
      "cell_type": "code",
      "metadata": {
        "id": "wW7t2_dHLY2l",
        "colab_type": "code",
        "colab": {
          "base_uri": "https://localhost:8080/",
          "height": 204
        },
        "outputId": "8b2ef183-68a3-4ee9-89b5-1b6fb44e982a"
      },
      "source": [
        "X_test.head()"
      ],
      "execution_count": 16,
      "outputs": [
        {
          "output_type": "execute_result",
          "data": {
            "text/html": [
              "<div>\n",
              "<style scoped>\n",
              "    .dataframe tbody tr th:only-of-type {\n",
              "        vertical-align: middle;\n",
              "    }\n",
              "\n",
              "    .dataframe tbody tr th {\n",
              "        vertical-align: top;\n",
              "    }\n",
              "\n",
              "    .dataframe thead th {\n",
              "        text-align: right;\n",
              "    }\n",
              "</style>\n",
              "<table border=\"1\" class=\"dataframe\">\n",
              "  <thead>\n",
              "    <tr style=\"text-align: right;\">\n",
              "      <th></th>\n",
              "      <th>Year</th>\n",
              "      <th>Month</th>\n",
              "      <th>Day</th>\n",
              "    </tr>\n",
              "  </thead>\n",
              "  <tbody>\n",
              "    <tr>\n",
              "      <th>2795</th>\n",
              "      <td>2015</td>\n",
              "      <td>9</td>\n",
              "      <td>25</td>\n",
              "    </tr>\n",
              "    <tr>\n",
              "      <th>3713</th>\n",
              "      <td>2019</td>\n",
              "      <td>5</td>\n",
              "      <td>21</td>\n",
              "    </tr>\n",
              "    <tr>\n",
              "      <th>2614</th>\n",
              "      <td>2015</td>\n",
              "      <td>1</td>\n",
              "      <td>7</td>\n",
              "    </tr>\n",
              "    <tr>\n",
              "      <th>3113</th>\n",
              "      <td>2016</td>\n",
              "      <td>12</td>\n",
              "      <td>29</td>\n",
              "    </tr>\n",
              "    <tr>\n",
              "      <th>17</th>\n",
              "      <td>2004</td>\n",
              "      <td>9</td>\n",
              "      <td>14</td>\n",
              "    </tr>\n",
              "  </tbody>\n",
              "</table>\n",
              "</div>"
            ],
            "text/plain": [
              "      Year  Month  Day\n",
              "2795  2015      9   25\n",
              "3713  2019      5   21\n",
              "2614  2015      1    7\n",
              "3113  2016     12   29\n",
              "17    2004      9   14"
            ]
          },
          "metadata": {
            "tags": []
          },
          "execution_count": 16
        }
      ]
    },
    {
      "cell_type": "code",
      "metadata": {
        "id": "kkFl1v6CLel-",
        "colab_type": "code",
        "colab": {
          "base_uri": "https://localhost:8080/",
          "height": 204
        },
        "outputId": "2a2c1ed9-4862-4f58-bb06-24ee097476cf"
      },
      "source": [
        "y_test = pd.DataFrame(y_test)\n",
        "y_test.head()"
      ],
      "execution_count": 17,
      "outputs": [
        {
          "output_type": "execute_result",
          "data": {
            "text/html": [
              "<div>\n",
              "<style scoped>\n",
              "    .dataframe tbody tr th:only-of-type {\n",
              "        vertical-align: middle;\n",
              "    }\n",
              "\n",
              "    .dataframe tbody tr th {\n",
              "        vertical-align: top;\n",
              "    }\n",
              "\n",
              "    .dataframe thead th {\n",
              "        text-align: right;\n",
              "    }\n",
              "</style>\n",
              "<table border=\"1\" class=\"dataframe\">\n",
              "  <thead>\n",
              "    <tr style=\"text-align: right;\">\n",
              "      <th></th>\n",
              "      <th>Close</th>\n",
              "    </tr>\n",
              "  </thead>\n",
              "  <tbody>\n",
              "    <tr>\n",
              "      <th>2795</th>\n",
              "      <td>640.150024</td>\n",
              "    </tr>\n",
              "    <tr>\n",
              "      <th>3713</th>\n",
              "      <td>1154.439941</td>\n",
              "    </tr>\n",
              "    <tr>\n",
              "      <th>2614</th>\n",
              "      <td>505.149994</td>\n",
              "    </tr>\n",
              "    <tr>\n",
              "      <th>3113</th>\n",
              "      <td>802.880005</td>\n",
              "    </tr>\n",
              "    <tr>\n",
              "      <th>17</th>\n",
              "      <td>55.800800</td>\n",
              "    </tr>\n",
              "  </tbody>\n",
              "</table>\n",
              "</div>"
            ],
            "text/plain": [
              "            Close\n",
              "2795   640.150024\n",
              "3713  1154.439941\n",
              "2614   505.149994\n",
              "3113   802.880005\n",
              "17      55.800800"
            ]
          },
          "metadata": {
            "tags": []
          },
          "execution_count": 17
        }
      ]
    },
    {
      "cell_type": "markdown",
      "metadata": {
        "id": "q_JWuNgTRb35",
        "colab_type": "text"
      },
      "source": [
        "#Multivariate Linear Regression modeling"
      ]
    },
    {
      "cell_type": "markdown",
      "metadata": {
        "id": "SvtI1uf0SOuX",
        "colab_type": "text"
      },
      "source": [
        "##Training"
      ]
    },
    {
      "cell_type": "code",
      "metadata": {
        "id": "XOZOXJU4bznP",
        "colab_type": "code",
        "colab": {}
      },
      "source": [
        "from sklearn.linear_model import LinearRegression\n",
        "\n",
        "lm = LinearRegression()"
      ],
      "execution_count": 18,
      "outputs": []
    },
    {
      "cell_type": "code",
      "metadata": {
        "id": "y7mh9hUOSfIi",
        "colab_type": "code",
        "colab": {
          "base_uri": "https://localhost:8080/",
          "height": 34
        },
        "outputId": "e2c6e40e-dc4b-4e00-ae4e-b9bc74654de8"
      },
      "source": [
        "lm.fit(X_train,y_train)"
      ],
      "execution_count": 19,
      "outputs": [
        {
          "output_type": "execute_result",
          "data": {
            "text/plain": [
              "LinearRegression(copy_X=True, fit_intercept=True, n_jobs=None, normalize=False)"
            ]
          },
          "metadata": {
            "tags": []
          },
          "execution_count": 19
        }
      ]
    },
    {
      "cell_type": "markdown",
      "metadata": {
        "id": "8m4q9Dz7Rr9H",
        "colab_type": "text"
      },
      "source": [
        "Now I will predict values basing on our model and X_test data set"
      ]
    },
    {
      "cell_type": "markdown",
      "metadata": {
        "id": "YYdg4t6hSR3r",
        "colab_type": "text"
      },
      "source": [
        "##Testing"
      ]
    },
    {
      "cell_type": "code",
      "metadata": {
        "id": "YB0B_MkqSh2N",
        "colab_type": "code",
        "colab": {}
      },
      "source": [
        "predict = lm.predict(X_test)"
      ],
      "execution_count": 20,
      "outputs": []
    },
    {
      "cell_type": "markdown",
      "metadata": {
        "id": "YpQ7mHctSASy",
        "colab_type": "text"
      },
      "source": [
        "I just want to display both datasets that later on we will compare to each other."
      ]
    },
    {
      "cell_type": "code",
      "metadata": {
        "id": "j9EEulTCMVkh",
        "colab_type": "code",
        "colab": {}
      },
      "source": [
        "predict = pd.DataFrame(predict)"
      ],
      "execution_count": 21,
      "outputs": []
    },
    {
      "cell_type": "code",
      "metadata": {
        "id": "XTWrW0vE9Tt8",
        "colab_type": "code",
        "colab": {
          "base_uri": "https://localhost:8080/",
          "height": 493
        },
        "outputId": "b3524d55-e753-4097-df16-6500383a5946"
      },
      "source": [
        "predict = pd.DataFrame(predict)\n",
        "y_test = pd.DataFrame(y_test)\n",
        "\n",
        "print(predict)\n",
        "print(y_test)"
      ],
      "execution_count": 22,
      "outputs": [
        {
          "output_type": "stream",
          "text": [
            "               0\n",
            "0     748.482176\n",
            "1    1015.278179\n",
            "2     698.644566\n",
            "3     839.828278\n",
            "4     -53.546750\n",
            "..           ...\n",
            "978   821.597673\n",
            "979   947.831995\n",
            "980    98.964891\n",
            "981   352.656197\n",
            "982   765.490117\n",
            "\n",
            "[983 rows x 1 columns]\n",
            "            Close\n",
            "2795   640.150024\n",
            "3713  1154.439941\n",
            "2614   505.149994\n",
            "3113   802.880005\n",
            "17      55.800800\n",
            "...           ...\n",
            "3050   802.640015\n",
            "3476  1140.900024\n",
            "551    243.543549\n",
            "1417   282.052063\n",
            "2845   772.989990\n",
            "\n",
            "[983 rows x 1 columns]\n"
          ],
          "name": "stdout"
        }
      ]
    },
    {
      "cell_type": "markdown",
      "metadata": {
        "id": "NY772-DISHrv",
        "colab_type": "text"
      },
      "source": [
        "Let's see how our model is fitted"
      ]
    },
    {
      "cell_type": "code",
      "metadata": {
        "id": "GXY8dh6Kbiey",
        "colab_type": "code",
        "colab": {
          "base_uri": "https://localhost:8080/",
          "height": 518
        },
        "outputId": "c804ff84-9662-4f14-ac65-790062a91dec"
      },
      "source": [
        "fig, axs = plt.subplots(1, 2, figsize=(25, 10))\n",
        "axs[0].scatter(y_test, predict)\n",
        "axs[1].plot(y_test, predict)\n",
        "plt.show()"
      ],
      "execution_count": 23,
      "outputs": [
        {
          "output_type": "display_data",
          "data": {
            "image/png": "[encoded data removed]",
            "text/plain": [
              "<Figure size 1800x720 with 2 Axes>"
            ]
          },
          "metadata": {
            "tags": [],
            "needs_background": "light"
          }
        }
      ]
    },
    {
      "cell_type": "code",
      "metadata": {
        "id": "PB9XvF-HSlRJ",
        "colab_type": "code",
        "colab": {
          "base_uri": "https://localhost:8080/",
          "height": 34
        },
        "outputId": "d5933b0e-4eba-4501-cbb0-96748d286c2d"
      },
      "source": [
        "from sklearn import metrics\n",
        "\n",
        "MAE = metrics.mean_absolute_error(y_test,predict)\n",
        "MAE"
      ],
      "execution_count": 24,
      "outputs": [
        {
          "output_type": "execute_result",
          "data": {
            "text/plain": [
              "119.23246416597775"
            ]
          },
          "metadata": {
            "tags": []
          },
          "execution_count": 24
        }
      ]
    },
    {
      "cell_type": "code",
      "metadata": {
        "id": "bC9W_EuF16fs",
        "colab_type": "code",
        "colab": {
          "base_uri": "https://localhost:8080/",
          "height": 34
        },
        "outputId": "6f4cbe61-c217-4c85-b45b-08b613b8213e"
      },
      "source": [
        "MSE = metrics.mean_squared_error(y_test,predict)\n",
        "MSE"
      ],
      "execution_count": 25,
      "outputs": [
        {
          "output_type": "execute_result",
          "data": {
            "text/plain": [
              "18378.851554186054"
            ]
          },
          "metadata": {
            "tags": []
          },
          "execution_count": 25
        }
      ]
    },
    {
      "cell_type": "code",
      "metadata": {
        "id": "43otRt8fSp0f",
        "colab_type": "code",
        "colab": {
          "base_uri": "https://localhost:8080/",
          "height": 34
        },
        "outputId": "3cb5eb85-e119-4976-ae81-8309aaa39d50"
      },
      "source": [
        "MRSE = np.sqrt(metrics.mean_squared_error(y_test,predict))\n",
        "MRSE"
      ],
      "execution_count": 26,
      "outputs": [
        {
          "output_type": "execute_result",
          "data": {
            "text/plain": [
              "135.56862304451593"
            ]
          },
          "metadata": {
            "tags": []
          },
          "execution_count": 26
        }
      ]
    },
    {
      "cell_type": "markdown",
      "metadata": {
        "id": "hXR2XskaSUym",
        "colab_type": "text"
      },
      "source": [
        "As we can see our model is not fitted quite well."
      ]
    },
    {
      "cell_type": "markdown",
      "metadata": {
        "id": "93TosYrRS1ft",
        "colab_type": "text"
      },
      "source": [
        "#Improving dataset"
      ]
    },
    {
      "cell_type": "markdown",
      "metadata": {
        "id": "_jWz_nR6X0Ui",
        "colab_type": "text"
      },
      "source": [
        "## Effective Federal Funds Rate"
      ]
    },
    {
      "cell_type": "markdown",
      "metadata": {
        "id": "2AH46XW_W8cH",
        "colab_type": "text"
      },
      "source": [
        "I will add Effectife Federal Funds Rate feature for purpose of higher quality model fitting"
      ]
    },
    {
      "cell_type": "code",
      "metadata": {
        "id": "jM5vl94hXLr_",
        "colab_type": "code",
        "colab": {}
      },
      "source": [
        "EFFR = pd.read_csv('EffectiveFederalFundsRate.csv')"
      ],
      "execution_count": 27,
      "outputs": []
    },
    {
      "cell_type": "code",
      "metadata": {
        "id": "N88x-NghdU-e",
        "colab_type": "code",
        "colab": {
          "base_uri": "https://localhost:8080/",
          "height": 419
        },
        "outputId": "5518cd59-0035-4ae0-a466-30ae056e9dbe"
      },
      "source": [
        "EFFR = EFFR.rename(columns = {'DFF':'EFFR'})\n",
        "EFFR"
      ],
      "execution_count": 28,
      "outputs": [
        {
          "output_type": "execute_result",
          "data": {
            "text/html": [
              "<div>\n",
              "<style scoped>\n",
              "    .dataframe tbody tr th:only-of-type {\n",
              "        vertical-align: middle;\n",
              "    }\n",
              "\n",
              "    .dataframe tbody tr th {\n",
              "        vertical-align: top;\n",
              "    }\n",
              "\n",
              "    .dataframe thead th {\n",
              "        text-align: right;\n",
              "    }\n",
              "</style>\n",
              "<table border=\"1\" class=\"dataframe\">\n",
              "  <thead>\n",
              "    <tr style=\"text-align: right;\">\n",
              "      <th></th>\n",
              "      <th>DATE</th>\n",
              "      <th>EFFR</th>\n",
              "    </tr>\n",
              "  </thead>\n",
              "  <tbody>\n",
              "    <tr>\n",
              "      <th>0</th>\n",
              "      <td>1954-07-01</td>\n",
              "      <td>1.13</td>\n",
              "    </tr>\n",
              "    <tr>\n",
              "      <th>1</th>\n",
              "      <td>1954-07-02</td>\n",
              "      <td>1.25</td>\n",
              "    </tr>\n",
              "    <tr>\n",
              "      <th>2</th>\n",
              "      <td>1954-07-03</td>\n",
              "      <td>1.25</td>\n",
              "    </tr>\n",
              "    <tr>\n",
              "      <th>3</th>\n",
              "      <td>1954-07-04</td>\n",
              "      <td>1.25</td>\n",
              "    </tr>\n",
              "    <tr>\n",
              "      <th>4</th>\n",
              "      <td>1954-07-05</td>\n",
              "      <td>0.88</td>\n",
              "    </tr>\n",
              "    <tr>\n",
              "      <th>...</th>\n",
              "      <td>...</td>\n",
              "      <td>...</td>\n",
              "    </tr>\n",
              "    <tr>\n",
              "      <th>24180</th>\n",
              "      <td>2020-09-12</td>\n",
              "      <td>0.09</td>\n",
              "    </tr>\n",
              "    <tr>\n",
              "      <th>24181</th>\n",
              "      <td>2020-09-13</td>\n",
              "      <td>0.09</td>\n",
              "    </tr>\n",
              "    <tr>\n",
              "      <th>24182</th>\n",
              "      <td>2020-09-14</td>\n",
              "      <td>0.09</td>\n",
              "    </tr>\n",
              "    <tr>\n",
              "      <th>24183</th>\n",
              "      <td>2020-09-15</td>\n",
              "      <td>0.09</td>\n",
              "    </tr>\n",
              "    <tr>\n",
              "      <th>24184</th>\n",
              "      <td>2020-09-16</td>\n",
              "      <td>0.09</td>\n",
              "    </tr>\n",
              "  </tbody>\n",
              "</table>\n",
              "<p>24185 rows × 2 columns</p>\n",
              "</div>"
            ],
            "text/plain": [
              "             DATE  EFFR\n",
              "0      1954-07-01  1.13\n",
              "1      1954-07-02  1.25\n",
              "2      1954-07-03  1.25\n",
              "3      1954-07-04  1.25\n",
              "4      1954-07-05  0.88\n",
              "...           ...   ...\n",
              "24180  2020-09-12  0.09\n",
              "24181  2020-09-13  0.09\n",
              "24182  2020-09-14  0.09\n",
              "24183  2020-09-15  0.09\n",
              "24184  2020-09-16  0.09\n",
              "\n",
              "[24185 rows x 2 columns]"
            ]
          },
          "metadata": {
            "tags": []
          },
          "execution_count": 28
        }
      ]
    },
    {
      "cell_type": "code",
      "metadata": {
        "id": "W_gE4C6Kdj20",
        "colab_type": "code",
        "colab": {
          "base_uri": "https://localhost:8080/",
          "height": 419
        },
        "outputId": "9806330f-6aeb-4163-ce39-d15b5f8a8ded"
      },
      "source": [
        "google"
      ],
      "execution_count": 29,
      "outputs": [
        {
          "output_type": "execute_result",
          "data": {
            "text/html": [
              "<div>\n",
              "<style scoped>\n",
              "    .dataframe tbody tr th:only-of-type {\n",
              "        vertical-align: middle;\n",
              "    }\n",
              "\n",
              "    .dataframe tbody tr th {\n",
              "        vertical-align: top;\n",
              "    }\n",
              "\n",
              "    .dataframe thead th {\n",
              "        text-align: right;\n",
              "    }\n",
              "</style>\n",
              "<table border=\"1\" class=\"dataframe\">\n",
              "  <thead>\n",
              "    <tr style=\"text-align: right;\">\n",
              "      <th></th>\n",
              "      <th>Date</th>\n",
              "      <th>Close</th>\n",
              "      <th>Year</th>\n",
              "      <th>Month</th>\n",
              "      <th>Day</th>\n",
              "    </tr>\n",
              "  </thead>\n",
              "  <tbody>\n",
              "    <tr>\n",
              "      <th>0</th>\n",
              "      <td>2004-08-19</td>\n",
              "      <td>50.220219</td>\n",
              "      <td>2004</td>\n",
              "      <td>8</td>\n",
              "      <td>19</td>\n",
              "    </tr>\n",
              "    <tr>\n",
              "      <th>1</th>\n",
              "      <td>2004-08-20</td>\n",
              "      <td>54.209209</td>\n",
              "      <td>2004</td>\n",
              "      <td>8</td>\n",
              "      <td>20</td>\n",
              "    </tr>\n",
              "    <tr>\n",
              "      <th>2</th>\n",
              "      <td>2004-08-23</td>\n",
              "      <td>54.754753</td>\n",
              "      <td>2004</td>\n",
              "      <td>8</td>\n",
              "      <td>23</td>\n",
              "    </tr>\n",
              "    <tr>\n",
              "      <th>3</th>\n",
              "      <td>2004-08-24</td>\n",
              "      <td>52.487488</td>\n",
              "      <td>2004</td>\n",
              "      <td>8</td>\n",
              "      <td>24</td>\n",
              "    </tr>\n",
              "    <tr>\n",
              "      <th>4</th>\n",
              "      <td>2004-08-25</td>\n",
              "      <td>53.053055</td>\n",
              "      <td>2004</td>\n",
              "      <td>8</td>\n",
              "      <td>25</td>\n",
              "    </tr>\n",
              "    <tr>\n",
              "      <th>...</th>\n",
              "      <td>...</td>\n",
              "      <td>...</td>\n",
              "      <td>...</td>\n",
              "      <td>...</td>\n",
              "      <td>...</td>\n",
              "    </tr>\n",
              "    <tr>\n",
              "      <th>3927</th>\n",
              "      <td>2020-03-26</td>\n",
              "      <td>1162.920044</td>\n",
              "      <td>2020</td>\n",
              "      <td>3</td>\n",
              "      <td>26</td>\n",
              "    </tr>\n",
              "    <tr>\n",
              "      <th>3928</th>\n",
              "      <td>2020-03-27</td>\n",
              "      <td>1110.260010</td>\n",
              "      <td>2020</td>\n",
              "      <td>3</td>\n",
              "      <td>27</td>\n",
              "    </tr>\n",
              "    <tr>\n",
              "      <th>3929</th>\n",
              "      <td>2020-03-30</td>\n",
              "      <td>1146.310059</td>\n",
              "      <td>2020</td>\n",
              "      <td>3</td>\n",
              "      <td>30</td>\n",
              "    </tr>\n",
              "    <tr>\n",
              "      <th>3930</th>\n",
              "      <td>2020-03-31</td>\n",
              "      <td>1161.949951</td>\n",
              "      <td>2020</td>\n",
              "      <td>3</td>\n",
              "      <td>31</td>\n",
              "    </tr>\n",
              "    <tr>\n",
              "      <th>3931</th>\n",
              "      <td>2020-04-01</td>\n",
              "      <td>1102.099976</td>\n",
              "      <td>2020</td>\n",
              "      <td>4</td>\n",
              "      <td>1</td>\n",
              "    </tr>\n",
              "  </tbody>\n",
              "</table>\n",
              "<p>3932 rows × 5 columns</p>\n",
              "</div>"
            ],
            "text/plain": [
              "            Date        Close  Year  Month  Day\n",
              "0     2004-08-19    50.220219  2004      8   19\n",
              "1     2004-08-20    54.209209  2004      8   20\n",
              "2     2004-08-23    54.754753  2004      8   23\n",
              "3     2004-08-24    52.487488  2004      8   24\n",
              "4     2004-08-25    53.053055  2004      8   25\n",
              "...          ...          ...   ...    ...  ...\n",
              "3927  2020-03-26  1162.920044  2020      3   26\n",
              "3928  2020-03-27  1110.260010  2020      3   27\n",
              "3929  2020-03-30  1146.310059  2020      3   30\n",
              "3930  2020-03-31  1161.949951  2020      3   31\n",
              "3931  2020-04-01  1102.099976  2020      4    1\n",
              "\n",
              "[3932 rows x 5 columns]"
            ]
          },
          "metadata": {
            "tags": []
          },
          "execution_count": 29
        }
      ]
    },
    {
      "cell_type": "markdown",
      "metadata": {
        "id": "qgMa74CEY_19",
        "colab_type": "text"
      },
      "source": [
        "Now I will use inner merge to fit EFFR to dates that are present in google dataset"
      ]
    },
    {
      "cell_type": "code",
      "metadata": {
        "id": "8dpVyEmAcqEs",
        "colab_type": "code",
        "colab": {}
      },
      "source": [
        "google = pd.merge(left=google, right=EFFR,left_on='Date',right_on='DATE')"
      ],
      "execution_count": 30,
      "outputs": []
    },
    {
      "cell_type": "code",
      "metadata": {
        "id": "Cn0enR87B9yR",
        "colab_type": "code",
        "colab": {
          "base_uri": "https://localhost:8080/",
          "height": 419
        },
        "outputId": "61691799-cacc-494c-9a7a-5bea204534c2"
      },
      "source": [
        "google"
      ],
      "execution_count": 31,
      "outputs": [
        {
          "output_type": "execute_result",
          "data": {
            "text/html": [
              "<div>\n",
              "<style scoped>\n",
              "    .dataframe tbody tr th:only-of-type {\n",
              "        vertical-align: middle;\n",
              "    }\n",
              "\n",
              "    .dataframe tbody tr th {\n",
              "        vertical-align: top;\n",
              "    }\n",
              "\n",
              "    .dataframe thead th {\n",
              "        text-align: right;\n",
              "    }\n",
              "</style>\n",
              "<table border=\"1\" class=\"dataframe\">\n",
              "  <thead>\n",
              "    <tr style=\"text-align: right;\">\n",
              "      <th></th>\n",
              "      <th>Date</th>\n",
              "      <th>Close</th>\n",
              "      <th>Year</th>\n",
              "      <th>Month</th>\n",
              "      <th>Day</th>\n",
              "      <th>DATE</th>\n",
              "      <th>EFFR</th>\n",
              "    </tr>\n",
              "  </thead>\n",
              "  <tbody>\n",
              "    <tr>\n",
              "      <th>0</th>\n",
              "      <td>2004-08-19</td>\n",
              "      <td>50.220219</td>\n",
              "      <td>2004</td>\n",
              "      <td>8</td>\n",
              "      <td>19</td>\n",
              "      <td>2004-08-19</td>\n",
              "      <td>1.50</td>\n",
              "    </tr>\n",
              "    <tr>\n",
              "      <th>1</th>\n",
              "      <td>2004-08-20</td>\n",
              "      <td>54.209209</td>\n",
              "      <td>2004</td>\n",
              "      <td>8</td>\n",
              "      <td>20</td>\n",
              "      <td>2004-08-20</td>\n",
              "      <td>1.50</td>\n",
              "    </tr>\n",
              "    <tr>\n",
              "      <th>2</th>\n",
              "      <td>2004-08-23</td>\n",
              "      <td>54.754753</td>\n",
              "      <td>2004</td>\n",
              "      <td>8</td>\n",
              "      <td>23</td>\n",
              "      <td>2004-08-23</td>\n",
              "      <td>1.51</td>\n",
              "    </tr>\n",
              "    <tr>\n",
              "      <th>3</th>\n",
              "      <td>2004-08-24</td>\n",
              "      <td>52.487488</td>\n",
              "      <td>2004</td>\n",
              "      <td>8</td>\n",
              "      <td>24</td>\n",
              "      <td>2004-08-24</td>\n",
              "      <td>1.51</td>\n",
              "    </tr>\n",
              "    <tr>\n",
              "      <th>4</th>\n",
              "      <td>2004-08-25</td>\n",
              "      <td>53.053055</td>\n",
              "      <td>2004</td>\n",
              "      <td>8</td>\n",
              "      <td>25</td>\n",
              "      <td>2004-08-25</td>\n",
              "      <td>1.55</td>\n",
              "    </tr>\n",
              "    <tr>\n",
              "      <th>...</th>\n",
              "      <td>...</td>\n",
              "      <td>...</td>\n",
              "      <td>...</td>\n",
              "      <td>...</td>\n",
              "      <td>...</td>\n",
              "      <td>...</td>\n",
              "      <td>...</td>\n",
              "    </tr>\n",
              "    <tr>\n",
              "      <th>3927</th>\n",
              "      <td>2020-03-26</td>\n",
              "      <td>1162.920044</td>\n",
              "      <td>2020</td>\n",
              "      <td>3</td>\n",
              "      <td>26</td>\n",
              "      <td>2020-03-26</td>\n",
              "      <td>0.10</td>\n",
              "    </tr>\n",
              "    <tr>\n",
              "      <th>3928</th>\n",
              "      <td>2020-03-27</td>\n",
              "      <td>1110.260010</td>\n",
              "      <td>2020</td>\n",
              "      <td>3</td>\n",
              "      <td>27</td>\n",
              "      <td>2020-03-27</td>\n",
              "      <td>0.10</td>\n",
              "    </tr>\n",
              "    <tr>\n",
              "      <th>3929</th>\n",
              "      <td>2020-03-30</td>\n",
              "      <td>1146.310059</td>\n",
              "      <td>2020</td>\n",
              "      <td>3</td>\n",
              "      <td>30</td>\n",
              "      <td>2020-03-30</td>\n",
              "      <td>0.09</td>\n",
              "    </tr>\n",
              "    <tr>\n",
              "      <th>3930</th>\n",
              "      <td>2020-03-31</td>\n",
              "      <td>1161.949951</td>\n",
              "      <td>2020</td>\n",
              "      <td>3</td>\n",
              "      <td>31</td>\n",
              "      <td>2020-03-31</td>\n",
              "      <td>0.08</td>\n",
              "    </tr>\n",
              "    <tr>\n",
              "      <th>3931</th>\n",
              "      <td>2020-04-01</td>\n",
              "      <td>1102.099976</td>\n",
              "      <td>2020</td>\n",
              "      <td>4</td>\n",
              "      <td>1</td>\n",
              "      <td>2020-04-01</td>\n",
              "      <td>0.06</td>\n",
              "    </tr>\n",
              "  </tbody>\n",
              "</table>\n",
              "<p>3932 rows × 7 columns</p>\n",
              "</div>"
            ],
            "text/plain": [
              "            Date        Close  Year  Month  Day        DATE  EFFR\n",
              "0     2004-08-19    50.220219  2004      8   19  2004-08-19  1.50\n",
              "1     2004-08-20    54.209209  2004      8   20  2004-08-20  1.50\n",
              "2     2004-08-23    54.754753  2004      8   23  2004-08-23  1.51\n",
              "3     2004-08-24    52.487488  2004      8   24  2004-08-24  1.51\n",
              "4     2004-08-25    53.053055  2004      8   25  2004-08-25  1.55\n",
              "...          ...          ...   ...    ...  ...         ...   ...\n",
              "3927  2020-03-26  1162.920044  2020      3   26  2020-03-26  0.10\n",
              "3928  2020-03-27  1110.260010  2020      3   27  2020-03-27  0.10\n",
              "3929  2020-03-30  1146.310059  2020      3   30  2020-03-30  0.09\n",
              "3930  2020-03-31  1161.949951  2020      3   31  2020-03-31  0.08\n",
              "3931  2020-04-01  1102.099976  2020      4    1  2020-04-01  0.06\n",
              "\n",
              "[3932 rows x 7 columns]"
            ]
          },
          "metadata": {
            "tags": []
          },
          "execution_count": 31
        }
      ]
    },
    {
      "cell_type": "code",
      "metadata": {
        "id": "bqi3lbR0Y2-B",
        "colab_type": "code",
        "colab": {}
      },
      "source": [
        "google.drop('DATE',axis=1,inplace=True)\n"
      ],
      "execution_count": 32,
      "outputs": []
    },
    {
      "cell_type": "code",
      "metadata": {
        "id": "OTbBfZKJdy2v",
        "colab_type": "code",
        "colab": {
          "base_uri": "https://localhost:8080/",
          "height": 204
        },
        "outputId": "7c938460-ebca-49d0-ad00-6f6eb1b21824"
      },
      "source": [
        "google.head()"
      ],
      "execution_count": 33,
      "outputs": [
        {
          "output_type": "execute_result",
          "data": {
            "text/html": [
              "<div>\n",
              "<style scoped>\n",
              "    .dataframe tbody tr th:only-of-type {\n",
              "        vertical-align: middle;\n",
              "    }\n",
              "\n",
              "    .dataframe tbody tr th {\n",
              "        vertical-align: top;\n",
              "    }\n",
              "\n",
              "    .dataframe thead th {\n",
              "        text-align: right;\n",
              "    }\n",
              "</style>\n",
              "<table border=\"1\" class=\"dataframe\">\n",
              "  <thead>\n",
              "    <tr style=\"text-align: right;\">\n",
              "      <th></th>\n",
              "      <th>Date</th>\n",
              "      <th>Close</th>\n",
              "      <th>Year</th>\n",
              "      <th>Month</th>\n",
              "      <th>Day</th>\n",
              "      <th>EFFR</th>\n",
              "    </tr>\n",
              "  </thead>\n",
              "  <tbody>\n",
              "    <tr>\n",
              "      <th>0</th>\n",
              "      <td>2004-08-19</td>\n",
              "      <td>50.220219</td>\n",
              "      <td>2004</td>\n",
              "      <td>8</td>\n",
              "      <td>19</td>\n",
              "      <td>1.50</td>\n",
              "    </tr>\n",
              "    <tr>\n",
              "      <th>1</th>\n",
              "      <td>2004-08-20</td>\n",
              "      <td>54.209209</td>\n",
              "      <td>2004</td>\n",
              "      <td>8</td>\n",
              "      <td>20</td>\n",
              "      <td>1.50</td>\n",
              "    </tr>\n",
              "    <tr>\n",
              "      <th>2</th>\n",
              "      <td>2004-08-23</td>\n",
              "      <td>54.754753</td>\n",
              "      <td>2004</td>\n",
              "      <td>8</td>\n",
              "      <td>23</td>\n",
              "      <td>1.51</td>\n",
              "    </tr>\n",
              "    <tr>\n",
              "      <th>3</th>\n",
              "      <td>2004-08-24</td>\n",
              "      <td>52.487488</td>\n",
              "      <td>2004</td>\n",
              "      <td>8</td>\n",
              "      <td>24</td>\n",
              "      <td>1.51</td>\n",
              "    </tr>\n",
              "    <tr>\n",
              "      <th>4</th>\n",
              "      <td>2004-08-25</td>\n",
              "      <td>53.053055</td>\n",
              "      <td>2004</td>\n",
              "      <td>8</td>\n",
              "      <td>25</td>\n",
              "      <td>1.55</td>\n",
              "    </tr>\n",
              "  </tbody>\n",
              "</table>\n",
              "</div>"
            ],
            "text/plain": [
              "         Date      Close  Year  Month  Day  EFFR\n",
              "0  2004-08-19  50.220219  2004      8   19  1.50\n",
              "1  2004-08-20  54.209209  2004      8   20  1.50\n",
              "2  2004-08-23  54.754753  2004      8   23  1.51\n",
              "3  2004-08-24  52.487488  2004      8   24  1.51\n",
              "4  2004-08-25  53.053055  2004      8   25  1.55"
            ]
          },
          "metadata": {
            "tags": []
          },
          "execution_count": 33
        }
      ]
    },
    {
      "cell_type": "markdown",
      "metadata": {
        "id": "c2m4MvVHeKKG",
        "colab_type": "text"
      },
      "source": [
        "As our EFFR is given as a percentage let's just transform it into a number"
      ]
    },
    {
      "cell_type": "code",
      "metadata": {
        "id": "BJODTixgdwHB",
        "colab_type": "code",
        "colab": {}
      },
      "source": [
        "google['EFFR'] = google['EFFR'].apply(lambda x: x/100)"
      ],
      "execution_count": 34,
      "outputs": []
    },
    {
      "cell_type": "code",
      "metadata": {
        "id": "X8SyMAfQd-if",
        "colab_type": "code",
        "colab": {
          "base_uri": "https://localhost:8080/",
          "height": 204
        },
        "outputId": "8dbf3ae9-e37d-424c-b78e-131027d25361"
      },
      "source": [
        "google.tail()"
      ],
      "execution_count": 35,
      "outputs": [
        {
          "output_type": "execute_result",
          "data": {
            "text/html": [
              "<div>\n",
              "<style scoped>\n",
              "    .dataframe tbody tr th:only-of-type {\n",
              "        vertical-align: middle;\n",
              "    }\n",
              "\n",
              "    .dataframe tbody tr th {\n",
              "        vertical-align: top;\n",
              "    }\n",
              "\n",
              "    .dataframe thead th {\n",
              "        text-align: right;\n",
              "    }\n",
              "</style>\n",
              "<table border=\"1\" class=\"dataframe\">\n",
              "  <thead>\n",
              "    <tr style=\"text-align: right;\">\n",
              "      <th></th>\n",
              "      <th>Date</th>\n",
              "      <th>Close</th>\n",
              "      <th>Year</th>\n",
              "      <th>Month</th>\n",
              "      <th>Day</th>\n",
              "      <th>EFFR</th>\n",
              "    </tr>\n",
              "  </thead>\n",
              "  <tbody>\n",
              "    <tr>\n",
              "      <th>3927</th>\n",
              "      <td>2020-03-26</td>\n",
              "      <td>1162.920044</td>\n",
              "      <td>2020</td>\n",
              "      <td>3</td>\n",
              "      <td>26</td>\n",
              "      <td>0.0010</td>\n",
              "    </tr>\n",
              "    <tr>\n",
              "      <th>3928</th>\n",
              "      <td>2020-03-27</td>\n",
              "      <td>1110.260010</td>\n",
              "      <td>2020</td>\n",
              "      <td>3</td>\n",
              "      <td>27</td>\n",
              "      <td>0.0010</td>\n",
              "    </tr>\n",
              "    <tr>\n",
              "      <th>3929</th>\n",
              "      <td>2020-03-30</td>\n",
              "      <td>1146.310059</td>\n",
              "      <td>2020</td>\n",
              "      <td>3</td>\n",
              "      <td>30</td>\n",
              "      <td>0.0009</td>\n",
              "    </tr>\n",
              "    <tr>\n",
              "      <th>3930</th>\n",
              "      <td>2020-03-31</td>\n",
              "      <td>1161.949951</td>\n",
              "      <td>2020</td>\n",
              "      <td>3</td>\n",
              "      <td>31</td>\n",
              "      <td>0.0008</td>\n",
              "    </tr>\n",
              "    <tr>\n",
              "      <th>3931</th>\n",
              "      <td>2020-04-01</td>\n",
              "      <td>1102.099976</td>\n",
              "      <td>2020</td>\n",
              "      <td>4</td>\n",
              "      <td>1</td>\n",
              "      <td>0.0006</td>\n",
              "    </tr>\n",
              "  </tbody>\n",
              "</table>\n",
              "</div>"
            ],
            "text/plain": [
              "            Date        Close  Year  Month  Day    EFFR\n",
              "3927  2020-03-26  1162.920044  2020      3   26  0.0010\n",
              "3928  2020-03-27  1110.260010  2020      3   27  0.0010\n",
              "3929  2020-03-30  1146.310059  2020      3   30  0.0009\n",
              "3930  2020-03-31  1161.949951  2020      3   31  0.0008\n",
              "3931  2020-04-01  1102.099976  2020      4    1  0.0006"
            ]
          },
          "metadata": {
            "tags": []
          },
          "execution_count": 35
        }
      ]
    },
    {
      "cell_type": "markdown",
      "metadata": {
        "id": "9vb_KI3u4J3I",
        "colab_type": "text"
      },
      "source": [
        "##Data adjustment due to Corona Virus crisis"
      ]
    },
    {
      "cell_type": "markdown",
      "metadata": {
        "id": "nch-lTIn4UIi",
        "colab_type": "text"
      },
      "source": [
        "Our data reaches date of 2020-04-01. Our model isn't good representation of reliable predictions because of Corona Crisis. Check out below information."
      ]
    },
    {
      "cell_type": "markdown",
      "metadata": {
        "id": "XjXxOLLk6eAF",
        "colab_type": "text"
      },
      "source": [
        "![Screenshot 2020-09-20 at 11.48.50.png](data:image/png;base64,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)"
      ]
    },
    {
      "cell_type": "markdown",
      "metadata": {
        "id": "k5j1b3AI6tor",
        "colab_type": "text"
      },
      "source": [
        "As we can see on day 14th February prices started to decline, two weeks after WHO declared the outbreak of COVID-19 to be a Public Health Emergency of International Concern and issued a set of Temporary Recommendations."
      ]
    },
    {
      "cell_type": "markdown",
      "metadata": {
        "id": "tdRiBkCD6aIV",
        "colab_type": "text"
      },
      "source": [
        "![Screenshot 2020-09-20 at 11.45.30.png](data:image/png;base64,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)"
      ]
    },
    {
      "cell_type": "markdown",
      "metadata": {
        "id": "ZWtbf2Gz7Snu",
        "colab_type": "text"
      },
      "source": [
        "After seven weeks of first confusion and fear on the market prices started increases on April 3rd. Unfortunately our dataset includes this specific period of time, what surely will distort our predictions. Thats why I will cut the tail of our dataset until the date on which COVID-19 had too big impact on our dataset. But to be prevent underfitting of our model I will leave some market slump period."
      ]
    },
    {
      "cell_type": "markdown",
      "metadata": {
        "id": "nTJ7Xq0L86Q0",
        "colab_type": "text"
      },
      "source": [
        "![Screenshot 2020-09-20 at 12.02.14.png](data:image/png;base64,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)"
      ]
    },
    {
      "cell_type": "markdown",
      "metadata": {
        "id": "fDcyw43x94aG",
        "colab_type": "text"
      },
      "source": [
        "Let's say I will pick 19th of February. Till this day price drop seems to be quite representative for whole dataset."
      ]
    },
    {
      "cell_type": "code",
      "metadata": {
        "id": "iElNFAlv-uTl",
        "colab_type": "code",
        "colab": {
          "base_uri": "https://localhost:8080/",
          "height": 204
        },
        "outputId": "d541ce2a-b5c7-46c3-c1a9-2a047663abd5"
      },
      "source": [
        "google.head()"
      ],
      "execution_count": 36,
      "outputs": [
        {
          "output_type": "execute_result",
          "data": {
            "text/html": [
              "<div>\n",
              "<style scoped>\n",
              "    .dataframe tbody tr th:only-of-type {\n",
              "        vertical-align: middle;\n",
              "    }\n",
              "\n",
              "    .dataframe tbody tr th {\n",
              "        vertical-align: top;\n",
              "    }\n",
              "\n",
              "    .dataframe thead th {\n",
              "        text-align: right;\n",
              "    }\n",
              "</style>\n",
              "<table border=\"1\" class=\"dataframe\">\n",
              "  <thead>\n",
              "    <tr style=\"text-align: right;\">\n",
              "      <th></th>\n",
              "      <th>Date</th>\n",
              "      <th>Close</th>\n",
              "      <th>Year</th>\n",
              "      <th>Month</th>\n",
              "      <th>Day</th>\n",
              "      <th>EFFR</th>\n",
              "    </tr>\n",
              "  </thead>\n",
              "  <tbody>\n",
              "    <tr>\n",
              "      <th>0</th>\n",
              "      <td>2004-08-19</td>\n",
              "      <td>50.220219</td>\n",
              "      <td>2004</td>\n",
              "      <td>8</td>\n",
              "      <td>19</td>\n",
              "      <td>0.0150</td>\n",
              "    </tr>\n",
              "    <tr>\n",
              "      <th>1</th>\n",
              "      <td>2004-08-20</td>\n",
              "      <td>54.209209</td>\n",
              "      <td>2004</td>\n",
              "      <td>8</td>\n",
              "      <td>20</td>\n",
              "      <td>0.0150</td>\n",
              "    </tr>\n",
              "    <tr>\n",
              "      <th>2</th>\n",
              "      <td>2004-08-23</td>\n",
              "      <td>54.754753</td>\n",
              "      <td>2004</td>\n",
              "      <td>8</td>\n",
              "      <td>23</td>\n",
              "      <td>0.0151</td>\n",
              "    </tr>\n",
              "    <tr>\n",
              "      <th>3</th>\n",
              "      <td>2004-08-24</td>\n",
              "      <td>52.487488</td>\n",
              "      <td>2004</td>\n",
              "      <td>8</td>\n",
              "      <td>24</td>\n",
              "      <td>0.0151</td>\n",
              "    </tr>\n",
              "    <tr>\n",
              "      <th>4</th>\n",
              "      <td>2004-08-25</td>\n",
              "      <td>53.053055</td>\n",
              "      <td>2004</td>\n",
              "      <td>8</td>\n",
              "      <td>25</td>\n",
              "      <td>0.0155</td>\n",
              "    </tr>\n",
              "  </tbody>\n",
              "</table>\n",
              "</div>"
            ],
            "text/plain": [
              "         Date      Close  Year  Month  Day    EFFR\n",
              "0  2004-08-19  50.220219  2004      8   19  0.0150\n",
              "1  2004-08-20  54.209209  2004      8   20  0.0150\n",
              "2  2004-08-23  54.754753  2004      8   23  0.0151\n",
              "3  2004-08-24  52.487488  2004      8   24  0.0151\n",
              "4  2004-08-25  53.053055  2004      8   25  0.0155"
            ]
          },
          "metadata": {
            "tags": []
          },
          "execution_count": 36
        }
      ]
    },
    {
      "cell_type": "code",
      "metadata": {
        "id": "yU5zNrqdeLS0",
        "colab_type": "code",
        "colab": {
          "base_uri": "https://localhost:8080/",
          "height": 419
        },
        "outputId": "f79a5e00-d078-49b1-fce6-d3f4e54a836a"
      },
      "source": [
        "google = google.iloc[:google.index[google['Date'] == '2020-02-19'][0]+1,:]\n",
        "google"
      ],
      "execution_count": 37,
      "outputs": [
        {
          "output_type": "execute_result",
          "data": {
            "text/html": [
              "<div>\n",
              "<style scoped>\n",
              "    .dataframe tbody tr th:only-of-type {\n",
              "        vertical-align: middle;\n",
              "    }\n",
              "\n",
              "    .dataframe tbody tr th {\n",
              "        vertical-align: top;\n",
              "    }\n",
              "\n",
              "    .dataframe thead th {\n",
              "        text-align: right;\n",
              "    }\n",
              "</style>\n",
              "<table border=\"1\" class=\"dataframe\">\n",
              "  <thead>\n",
              "    <tr style=\"text-align: right;\">\n",
              "      <th></th>\n",
              "      <th>Date</th>\n",
              "      <th>Close</th>\n",
              "      <th>Year</th>\n",
              "      <th>Month</th>\n",
              "      <th>Day</th>\n",
              "      <th>EFFR</th>\n",
              "    </tr>\n",
              "  </thead>\n",
              "  <tbody>\n",
              "    <tr>\n",
              "      <th>0</th>\n",
              "      <td>2004-08-19</td>\n",
              "      <td>50.220219</td>\n",
              "      <td>2004</td>\n",
              "      <td>8</td>\n",
              "      <td>19</td>\n",
              "      <td>0.0150</td>\n",
              "    </tr>\n",
              "    <tr>\n",
              "      <th>1</th>\n",
              "      <td>2004-08-20</td>\n",
              "      <td>54.209209</td>\n",
              "      <td>2004</td>\n",
              "      <td>8</td>\n",
              "      <td>20</td>\n",
              "      <td>0.0150</td>\n",
              "    </tr>\n",
              "    <tr>\n",
              "      <th>2</th>\n",
              "      <td>2004-08-23</td>\n",
              "      <td>54.754753</td>\n",
              "      <td>2004</td>\n",
              "      <td>8</td>\n",
              "      <td>23</td>\n",
              "      <td>0.0151</td>\n",
              "    </tr>\n",
              "    <tr>\n",
              "      <th>3</th>\n",
              "      <td>2004-08-24</td>\n",
              "      <td>52.487488</td>\n",
              "      <td>2004</td>\n",
              "      <td>8</td>\n",
              "      <td>24</td>\n",
              "      <td>0.0151</td>\n",
              "    </tr>\n",
              "    <tr>\n",
              "      <th>4</th>\n",
              "      <td>2004-08-25</td>\n",
              "      <td>53.053055</td>\n",
              "      <td>2004</td>\n",
              "      <td>8</td>\n",
              "      <td>25</td>\n",
              "      <td>0.0155</td>\n",
              "    </tr>\n",
              "    <tr>\n",
              "      <th>...</th>\n",
              "      <td>...</td>\n",
              "      <td>...</td>\n",
              "      <td>...</td>\n",
              "      <td>...</td>\n",
              "      <td>...</td>\n",
              "      <td>...</td>\n",
              "    </tr>\n",
              "    <tr>\n",
              "      <th>3897</th>\n",
              "      <td>2020-02-12</td>\n",
              "      <td>1518.630005</td>\n",
              "      <td>2020</td>\n",
              "      <td>2</td>\n",
              "      <td>12</td>\n",
              "      <td>0.0158</td>\n",
              "    </tr>\n",
              "    <tr>\n",
              "      <th>3898</th>\n",
              "      <td>2020-02-13</td>\n",
              "      <td>1513.390015</td>\n",
              "      <td>2020</td>\n",
              "      <td>2</td>\n",
              "      <td>13</td>\n",
              "      <td>0.0158</td>\n",
              "    </tr>\n",
              "    <tr>\n",
              "      <th>3899</th>\n",
              "      <td>2020-02-14</td>\n",
              "      <td>1518.729980</td>\n",
              "      <td>2020</td>\n",
              "      <td>2</td>\n",
              "      <td>14</td>\n",
              "      <td>0.0158</td>\n",
              "    </tr>\n",
              "    <tr>\n",
              "      <th>3900</th>\n",
              "      <td>2020-02-18</td>\n",
              "      <td>1519.439941</td>\n",
              "      <td>2020</td>\n",
              "      <td>2</td>\n",
              "      <td>18</td>\n",
              "      <td>0.0159</td>\n",
              "    </tr>\n",
              "    <tr>\n",
              "      <th>3901</th>\n",
              "      <td>2020-02-19</td>\n",
              "      <td>1524.869995</td>\n",
              "      <td>2020</td>\n",
              "      <td>2</td>\n",
              "      <td>19</td>\n",
              "      <td>0.0159</td>\n",
              "    </tr>\n",
              "  </tbody>\n",
              "</table>\n",
              "<p>3902 rows × 6 columns</p>\n",
              "</div>"
            ],
            "text/plain": [
              "            Date        Close  Year  Month  Day    EFFR\n",
              "0     2004-08-19    50.220219  2004      8   19  0.0150\n",
              "1     2004-08-20    54.209209  2004      8   20  0.0150\n",
              "2     2004-08-23    54.754753  2004      8   23  0.0151\n",
              "3     2004-08-24    52.487488  2004      8   24  0.0151\n",
              "4     2004-08-25    53.053055  2004      8   25  0.0155\n",
              "...          ...          ...   ...    ...  ...     ...\n",
              "3897  2020-02-12  1518.630005  2020      2   12  0.0158\n",
              "3898  2020-02-13  1513.390015  2020      2   13  0.0158\n",
              "3899  2020-02-14  1518.729980  2020      2   14  0.0158\n",
              "3900  2020-02-18  1519.439941  2020      2   18  0.0159\n",
              "3901  2020-02-19  1524.869995  2020      2   19  0.0159\n",
              "\n",
              "[3902 rows x 6 columns]"
            ]
          },
          "metadata": {
            "tags": []
          },
          "execution_count": 37
        }
      ]
    },
    {
      "cell_type": "markdown",
      "metadata": {
        "id": "VDEj2k5WfrUc",
        "colab_type": "text"
      },
      "source": [
        "#Renewed Multivariate Regression Modeling"
      ]
    },
    {
      "cell_type": "markdown",
      "metadata": {
        "id": "gBfYnQ-qgutP",
        "colab_type": "text"
      },
      "source": [
        "##Cleaning"
      ]
    },
    {
      "cell_type": "markdown",
      "metadata": {
        "id": "1OoXkbmSf5cl",
        "colab_type": "text"
      },
      "source": [
        "Now I will train my model one more time. But first some cleaning."
      ]
    },
    {
      "cell_type": "code",
      "metadata": {
        "id": "NwuhpBCSeU9-",
        "colab_type": "code",
        "colab": {
          "base_uri": "https://localhost:8080/",
          "height": 204
        },
        "outputId": "6b1529cc-c07b-4265-a570-86de122e6a5d"
      },
      "source": [
        "google = google[['Date','Year','Month','Day','EFFR','Close']]\n",
        "google.tail()"
      ],
      "execution_count": 38,
      "outputs": [
        {
          "output_type": "execute_result",
          "data": {
            "text/html": [
              "<div>\n",
              "<style scoped>\n",
              "    .dataframe tbody tr th:only-of-type {\n",
              "        vertical-align: middle;\n",
              "    }\n",
              "\n",
              "    .dataframe tbody tr th {\n",
              "        vertical-align: top;\n",
              "    }\n",
              "\n",
              "    .dataframe thead th {\n",
              "        text-align: right;\n",
              "    }\n",
              "</style>\n",
              "<table border=\"1\" class=\"dataframe\">\n",
              "  <thead>\n",
              "    <tr style=\"text-align: right;\">\n",
              "      <th></th>\n",
              "      <th>Date</th>\n",
              "      <th>Year</th>\n",
              "      <th>Month</th>\n",
              "      <th>Day</th>\n",
              "      <th>EFFR</th>\n",
              "      <th>Close</th>\n",
              "    </tr>\n",
              "  </thead>\n",
              "  <tbody>\n",
              "    <tr>\n",
              "      <th>3897</th>\n",
              "      <td>2020-02-12</td>\n",
              "      <td>2020</td>\n",
              "      <td>2</td>\n",
              "      <td>12</td>\n",
              "      <td>0.0158</td>\n",
              "      <td>1518.630005</td>\n",
              "    </tr>\n",
              "    <tr>\n",
              "      <th>3898</th>\n",
              "      <td>2020-02-13</td>\n",
              "      <td>2020</td>\n",
              "      <td>2</td>\n",
              "      <td>13</td>\n",
              "      <td>0.0158</td>\n",
              "      <td>1513.390015</td>\n",
              "    </tr>\n",
              "    <tr>\n",
              "      <th>3899</th>\n",
              "      <td>2020-02-14</td>\n",
              "      <td>2020</td>\n",
              "      <td>2</td>\n",
              "      <td>14</td>\n",
              "      <td>0.0158</td>\n",
              "      <td>1518.729980</td>\n",
              "    </tr>\n",
              "    <tr>\n",
              "      <th>3900</th>\n",
              "      <td>2020-02-18</td>\n",
              "      <td>2020</td>\n",
              "      <td>2</td>\n",
              "      <td>18</td>\n",
              "      <td>0.0159</td>\n",
              "      <td>1519.439941</td>\n",
              "    </tr>\n",
              "    <tr>\n",
              "      <th>3901</th>\n",
              "      <td>2020-02-19</td>\n",
              "      <td>2020</td>\n",
              "      <td>2</td>\n",
              "      <td>19</td>\n",
              "      <td>0.0159</td>\n",
              "      <td>1524.869995</td>\n",
              "    </tr>\n",
              "  </tbody>\n",
              "</table>\n",
              "</div>"
            ],
            "text/plain": [
              "            Date  Year  Month  Day    EFFR        Close\n",
              "3897  2020-02-12  2020      2   12  0.0158  1518.630005\n",
              "3898  2020-02-13  2020      2   13  0.0158  1513.390015\n",
              "3899  2020-02-14  2020      2   14  0.0158  1518.729980\n",
              "3900  2020-02-18  2020      2   18  0.0159  1519.439941\n",
              "3901  2020-02-19  2020      2   19  0.0159  1524.869995"
            ]
          },
          "metadata": {
            "tags": []
          },
          "execution_count": 38
        }
      ]
    },
    {
      "cell_type": "markdown",
      "metadata": {
        "id": "96Do5qj2gwIV",
        "colab_type": "text"
      },
      "source": [
        "##Splitting the dataset"
      ]
    },
    {
      "cell_type": "code",
      "metadata": {
        "id": "KYLrTruLg1pm",
        "colab_type": "code",
        "colab": {}
      },
      "source": [
        "X_train_renewed, X_test_renewed, y_train_renewed, y_test_renewed = train_test_split(google[['Year','Month','Day','EFFR']],google['Close'])"
      ],
      "execution_count": 39,
      "outputs": []
    },
    {
      "cell_type": "markdown",
      "metadata": {
        "id": "fBFTK6mKkmtK",
        "colab_type": "text"
      },
      "source": [
        "##Training"
      ]
    },
    {
      "cell_type": "code",
      "metadata": {
        "id": "xhnqikczl-EN",
        "colab_type": "code",
        "colab": {}
      },
      "source": [
        "lm_renewed = LinearRegression()"
      ],
      "execution_count": 40,
      "outputs": []
    },
    {
      "cell_type": "code",
      "metadata": {
        "id": "iCrqmrmcl7oN",
        "colab_type": "code",
        "colab": {
          "base_uri": "https://localhost:8080/",
          "height": 34
        },
        "outputId": "fd7c94d6-43c9-4d4b-934f-633a961bca6b"
      },
      "source": [
        "lm_renewed.fit(X_train_renewed,y_train_renewed)"
      ],
      "execution_count": 41,
      "outputs": [
        {
          "output_type": "execute_result",
          "data": {
            "text/plain": [
              "LinearRegression(copy_X=True, fit_intercept=True, n_jobs=None, normalize=False)"
            ]
          },
          "metadata": {
            "tags": []
          },
          "execution_count": 41
        }
      ]
    },
    {
      "cell_type": "markdown",
      "metadata": {
        "id": "USPFsX1Am6va",
        "colab_type": "text"
      },
      "source": [
        "##Testing"
      ]
    },
    {
      "cell_type": "code",
      "metadata": {
        "id": "CCQqueITmMws",
        "colab_type": "code",
        "colab": {}
      },
      "source": [
        "predict_renewed = lm_renewed.predict(X_test_renewed)"
      ],
      "execution_count": 42,
      "outputs": []
    },
    {
      "cell_type": "code",
      "metadata": {
        "id": "6Zlc8XNYm4c-",
        "colab_type": "code",
        "colab": {
          "base_uri": "https://localhost:8080/",
          "height": 517
        },
        "outputId": "2b82d1e7-4304-436c-d647-a8c1657159df"
      },
      "source": [
        "fig, axs = plt.subplots(1, 2, figsize=(25, 10))\n",
        "axs[0].scatter(y_test_renewed, predict_renewed)\n",
        "axs[1].plot(y_test_renewed, predict_renewed)\n",
        "plt.show()"
      ],
      "execution_count": 43,
      "outputs": [
        {
          "output_type": "display_data",
          "data": {
            "image/png": "[encoded data removed]",
            "text/plain": [
              "<Figure size 1800x720 with 2 Axes>"
            ]
          },
          "metadata": {
            "tags": [],
            "needs_background": "light"
          }
        }
      ]
    },
    {
      "cell_type": "code",
      "metadata": {
        "id": "1Z69M-vnnFfA",
        "colab_type": "code",
        "colab": {
          "base_uri": "https://localhost:8080/",
          "height": 204
        },
        "outputId": "31396c74-df37-4bd0-cacb-307ce155cede"
      },
      "source": [
        "print('MAE = ',metrics.mean_absolute_error(y_test,predict))\n",
        "print('MSE = ',metrics.mean_squared_error(y_test,predict))\n",
        "print('MRSE = ',np.sqrt(metrics.mean_squared_error(y_test,predict)))\n",
        "print('')\n",
        "MAE_renewed = metrics.mean_absolute_error(y_test_renewed,predict_renewed)\n",
        "MSE_renewed = metrics.mean_squared_error(y_test_renewed,predict_renewed)\n",
        "MRSE_renewed = np.sqrt(metrics.mean_squared_error(y_test_renewed,predict_renewed))\n",
        "print('MAE_renewed = ',MAE_renewed)\n",
        "print('MSE_renewed = ',MSE_renewed)\n",
        "print('MRSE_renewed = ',MRSE_renewed)\n",
        "print('')\n",
        "print('MAE was improved by',round(((MAE-MAE_renewed)/MAE)*100,2),'%')\n",
        "print('MSE was improved by',round(((MSE-MSE_renewed)/MSE)*100,2),'%')\n",
        "print('MRSE was improved by',round(((MRSE-MRSE_renewed)/MRSE)*100,2),'%')"
      ],
      "execution_count": 44,
      "outputs": [
        {
          "output_type": "stream",
          "text": [
            "MAE =  119.23246416597775\n",
            "MSE =  18378.851554186054\n",
            "MRSE =  135.56862304451593\n",
            "\n",
            "MAE_renewed =  64.21160077807654\n",
            "MSE_renewed =  6568.687223165686\n",
            "MRSE_renewed =  81.04743810365437\n",
            "\n",
            "MAE was improved by 46.15 %\n",
            "MSE was improved by 64.26 %\n",
            "MRSE was improved by 40.22 %\n"
          ],
          "name": "stdout"
        }
      ]
    },
    {
      "cell_type": "markdown",
      "metadata": {
        "id": "DjlyB7l0_qio",
        "colab_type": "text"
      },
      "source": [
        "#Price predictions table for year 2020 and 2021"
      ]
    },
    {
      "cell_type": "markdown",
      "metadata": {
        "id": "4QnElNiLmax-",
        "colab_type": "text"
      },
      "source": [
        "##Creating 2020 and 2021 whole years Data Frame"
      ]
    },
    {
      "cell_type": "markdown",
      "metadata": {
        "id": "G9haFuMVSplT",
        "colab_type": "text"
      },
      "source": [
        "Now I want to create new DataFrame called 'whole_year' where I will ascribe proper dates for years 2020 and 2021"
      ]
    },
    {
      "cell_type": "code",
      "metadata": {
        "id": "gGs_eySR_uaT",
        "colab_type": "code",
        "colab": {}
      },
      "source": [
        "year = []\n",
        "\n",
        "for i in range(1,367):\n",
        "  year.append(2020)\n",
        "\n",
        "month = []\n",
        "day = []\n",
        "\n",
        "for i in range(1,32):\n",
        "  month.append(1)\n",
        "  day.append(i)\n",
        "\n",
        "for i in range(1,30):\n",
        "  month.append(2)\n",
        "  day.append(i)\n",
        "\n",
        "for i in range(1,32):\n",
        "  month.append(3)\n",
        "  day.append(i)\n",
        "\n",
        "for i in range(1,31):\n",
        "  month.append(4)\n",
        "  day.append(i)\n",
        "\n",
        "for i in range(1,32):\n",
        "  month.append(5)\n",
        "  day.append(i)\n",
        "\n",
        "for i in range(1,31):\n",
        "  month.append(6)\n",
        "  day.append(i)\n",
        "\n",
        "for i in range(1,32):\n",
        "  month.append(7)\n",
        "  day.append(i)\n",
        "\n",
        "for i in range(1,32):\n",
        "  month.append(8)\n",
        "  day.append(i)\n",
        "\n",
        "for i in range(1,31):\n",
        "  month.append(9)\n",
        "  day.append(i)\n",
        "\n",
        "for i in range(1,32):\n",
        "  month.append(10)\n",
        "  day.append(i)\n",
        "\n",
        "for i in range(1,31):\n",
        "  month.append(11)\n",
        "  day.append(i)\n",
        "\n",
        "for i in range(1,32):\n",
        "  month.append(12)\n",
        "  day.append(i)\n",
        "\n",
        "#2021\n",
        "\n",
        "for i in range(1,366):\n",
        "  year.append(2021)\n",
        "\n",
        "for i in range(1,32):\n",
        "  month.append(1)\n",
        "  day.append(i)\n",
        "\n",
        "for i in range(1,29):\n",
        "  month.append(2)\n",
        "  day.append(i)\n",
        "\n",
        "for i in range(1,32):\n",
        "  month.append(3)\n",
        "  day.append(i)\n",
        "\n",
        "for i in range(1,31):\n",
        "  month.append(4)\n",
        "  day.append(i)\n",
        "\n",
        "for i in range(1,32):\n",
        "  month.append(5)\n",
        "  day.append(i)\n",
        "\n",
        "for i in range(1,31):\n",
        "  month.append(6)\n",
        "  day.append(i)\n",
        "\n",
        "for i in range(1,32):\n",
        "  month.append(7)\n",
        "  day.append(i)\n",
        "\n",
        "for i in range(1,32):\n",
        "  month.append(8)\n",
        "  day.append(i)\n",
        "\n",
        "for i in range(1,31):\n",
        "  month.append(9)\n",
        "  day.append(i)\n",
        "\n",
        "for i in range(1,32):\n",
        "  month.append(10)\n",
        "  day.append(i)\n",
        "\n",
        "for i in range(1,31):\n",
        "  month.append(11)\n",
        "  day.append(i)\n",
        "\n",
        "for i in range(1,32):\n",
        "  month.append(12)\n",
        "  day.append(i)"
      ],
      "execution_count": 45,
      "outputs": []
    },
    {
      "cell_type": "code",
      "metadata": {
        "id": "C8T-1UU9C3sI",
        "colab_type": "code",
        "colab": {}
      },
      "source": [
        "whole_year = pd.DataFrame({'Year':year,'Month':month,'Day':day})"
      ],
      "execution_count": 46,
      "outputs": []
    },
    {
      "cell_type": "code",
      "metadata": {
        "id": "8pAHF6H1DRFZ",
        "colab_type": "code",
        "colab": {
          "base_uri": "https://localhost:8080/",
          "height": 419
        },
        "outputId": "2b3aa6b5-103e-43ed-a9cf-b94555011b7a"
      },
      "source": [
        "whole_year"
      ],
      "execution_count": 47,
      "outputs": [
        {
          "output_type": "execute_result",
          "data": {
            "text/html": [
              "<div>\n",
              "<style scoped>\n",
              "    .dataframe tbody tr th:only-of-type {\n",
              "        vertical-align: middle;\n",
              "    }\n",
              "\n",
              "    .dataframe tbody tr th {\n",
              "        vertical-align: top;\n",
              "    }\n",
              "\n",
              "    .dataframe thead th {\n",
              "        text-align: right;\n",
              "    }\n",
              "</style>\n",
              "<table border=\"1\" class=\"dataframe\">\n",
              "  <thead>\n",
              "    <tr style=\"text-align: right;\">\n",
              "      <th></th>\n",
              "      <th>Year</th>\n",
              "      <th>Month</th>\n",
              "      <th>Day</th>\n",
              "    </tr>\n",
              "  </thead>\n",
              "  <tbody>\n",
              "    <tr>\n",
              "      <th>0</th>\n",
              "      <td>2020</td>\n",
              "      <td>1</td>\n",
              "      <td>1</td>\n",
              "    </tr>\n",
              "    <tr>\n",
              "      <th>1</th>\n",
              "      <td>2020</td>\n",
              "      <td>1</td>\n",
              "      <td>2</td>\n",
              "    </tr>\n",
              "    <tr>\n",
              "      <th>2</th>\n",
              "      <td>2020</td>\n",
              "      <td>1</td>\n",
              "      <td>3</td>\n",
              "    </tr>\n",
              "    <tr>\n",
              "      <th>3</th>\n",
              "      <td>2020</td>\n",
              "      <td>1</td>\n",
              "      <td>4</td>\n",
              "    </tr>\n",
              "    <tr>\n",
              "      <th>4</th>\n",
              "      <td>2020</td>\n",
              "      <td>1</td>\n",
              "      <td>5</td>\n",
              "    </tr>\n",
              "    <tr>\n",
              "      <th>...</th>\n",
              "      <td>...</td>\n",
              "      <td>...</td>\n",
              "      <td>...</td>\n",
              "    </tr>\n",
              "    <tr>\n",
              "      <th>726</th>\n",
              "      <td>2021</td>\n",
              "      <td>12</td>\n",
              "      <td>27</td>\n",
              "    </tr>\n",
              "    <tr>\n",
              "      <th>727</th>\n",
              "      <td>2021</td>\n",
              "      <td>12</td>\n",
              "      <td>28</td>\n",
              "    </tr>\n",
              "    <tr>\n",
              "      <th>728</th>\n",
              "      <td>2021</td>\n",
              "      <td>12</td>\n",
              "      <td>29</td>\n",
              "    </tr>\n",
              "    <tr>\n",
              "      <th>729</th>\n",
              "      <td>2021</td>\n",
              "      <td>12</td>\n",
              "      <td>30</td>\n",
              "    </tr>\n",
              "    <tr>\n",
              "      <th>730</th>\n",
              "      <td>2021</td>\n",
              "      <td>12</td>\n",
              "      <td>31</td>\n",
              "    </tr>\n",
              "  </tbody>\n",
              "</table>\n",
              "<p>731 rows × 3 columns</p>\n",
              "</div>"
            ],
            "text/plain": [
              "     Year  Month  Day\n",
              "0    2020      1    1\n",
              "1    2020      1    2\n",
              "2    2020      1    3\n",
              "3    2020      1    4\n",
              "4    2020      1    5\n",
              "..    ...    ...  ...\n",
              "726  2021     12   27\n",
              "727  2021     12   28\n",
              "728  2021     12   29\n",
              "729  2021     12   30\n",
              "730  2021     12   31\n",
              "\n",
              "[731 rows x 3 columns]"
            ]
          },
          "metadata": {
            "tags": []
          },
          "execution_count": 47
        }
      ]
    },
    {
      "cell_type": "markdown",
      "metadata": {
        "id": "_KkiicUnoEAx",
        "colab_type": "text"
      },
      "source": [
        "##Adding EFFR column"
      ]
    },
    {
      "cell_type": "markdown",
      "metadata": {
        "id": "wn9xooyxpYjY",
        "colab_type": "text"
      },
      "source": [
        "###Preparing whole_year dataset for modeling"
      ]
    },
    {
      "cell_type": "markdown",
      "metadata": {
        "id": "d2spHnD3oG7P",
        "colab_type": "text"
      },
      "source": [
        "I want to use inner merge for EFFR and whole_year datasets. I just have to create 'DATE' column in whole_year dataset, where I will concatenate 'Year', 'Month' and 'Day' to inner merge by 'DATE' column."
      ]
    },
    {
      "cell_type": "code",
      "metadata": {
        "id": "OZYjDWSLlXxV",
        "colab_type": "code",
        "colab": {}
      },
      "source": [
        "def Date(cols):\n",
        "  return ('%d-%d-%d' % (cols[0],cols[1],cols[2]))\n",
        "whole_year['DATE'] = whole_year[['Year','Month','Day']].apply(Date,axis=1)"
      ],
      "execution_count": 48,
      "outputs": []
    },
    {
      "cell_type": "code",
      "metadata": {
        "id": "12_eAhpimIlX",
        "colab_type": "code",
        "colab": {
          "base_uri": "https://localhost:8080/",
          "height": 204
        },
        "outputId": "25816f6a-c055-43fe-fda2-68ceb990040e"
      },
      "source": [
        "whole_year.head()"
      ],
      "execution_count": 49,
      "outputs": [
        {
          "output_type": "execute_result",
          "data": {
            "text/html": [
              "<div>\n",
              "<style scoped>\n",
              "    .dataframe tbody tr th:only-of-type {\n",
              "        vertical-align: middle;\n",
              "    }\n",
              "\n",
              "    .dataframe tbody tr th {\n",
              "        vertical-align: top;\n",
              "    }\n",
              "\n",
              "    .dataframe thead th {\n",
              "        text-align: right;\n",
              "    }\n",
              "</style>\n",
              "<table border=\"1\" class=\"dataframe\">\n",
              "  <thead>\n",
              "    <tr style=\"text-align: right;\">\n",
              "      <th></th>\n",
              "      <th>Year</th>\n",
              "      <th>Month</th>\n",
              "      <th>Day</th>\n",
              "      <th>DATE</th>\n",
              "    </tr>\n",
              "  </thead>\n",
              "  <tbody>\n",
              "    <tr>\n",
              "      <th>0</th>\n",
              "      <td>2020</td>\n",
              "      <td>1</td>\n",
              "      <td>1</td>\n",
              "      <td>2020-1-1</td>\n",
              "    </tr>\n",
              "    <tr>\n",
              "      <th>1</th>\n",
              "      <td>2020</td>\n",
              "      <td>1</td>\n",
              "      <td>2</td>\n",
              "      <td>2020-1-2</td>\n",
              "    </tr>\n",
              "    <tr>\n",
              "      <th>2</th>\n",
              "      <td>2020</td>\n",
              "      <td>1</td>\n",
              "      <td>3</td>\n",
              "      <td>2020-1-3</td>\n",
              "    </tr>\n",
              "    <tr>\n",
              "      <th>3</th>\n",
              "      <td>2020</td>\n",
              "      <td>1</td>\n",
              "      <td>4</td>\n",
              "      <td>2020-1-4</td>\n",
              "    </tr>\n",
              "    <tr>\n",
              "      <th>4</th>\n",
              "      <td>2020</td>\n",
              "      <td>1</td>\n",
              "      <td>5</td>\n",
              "      <td>2020-1-5</td>\n",
              "    </tr>\n",
              "  </tbody>\n",
              "</table>\n",
              "</div>"
            ],
            "text/plain": [
              "   Year  Month  Day      DATE\n",
              "0  2020      1    1  2020-1-1\n",
              "1  2020      1    2  2020-1-2\n",
              "2  2020      1    3  2020-1-3\n",
              "3  2020      1    4  2020-1-4\n",
              "4  2020      1    5  2020-1-5"
            ]
          },
          "metadata": {
            "tags": []
          },
          "execution_count": 49
        }
      ]
    },
    {
      "cell_type": "markdown",
      "metadata": {
        "id": "g9k855igpq8r",
        "colab_type": "text"
      },
      "source": [
        "###Preparing effr dataset for data modeling"
      ]
    },
    {
      "cell_type": "markdown",
      "metadata": {
        "id": "_nFDeDS8p1fk",
        "colab_type": "text"
      },
      "source": [
        "As far as US government will keep their announcement about holding interest rate near 0% through 2022 - because of COVID crisis - I've decided to set interest rate for Q4 2020 (from 19.02.2020) and 2021 from 0,08% gradually decreasing by 0,1% each day.\n",
        "\n",
        "Source: https://www.cnbc.com/2020/06/10/fed-holds-rates-near-zero-heres-what-that-means-for-your-wallet.html"
      ]
    },
    {
      "cell_type": "markdown",
      "metadata": {
        "id": "LT-NcVNrskzq",
        "colab_type": "text"
      },
      "source": [
        "Let's first count how many rows we have to fill with 'fake rate' ergo how many days are from 2020-09-16 to 2021-12-31"
      ]
    },
    {
      "cell_type": "code",
      "metadata": {
        "id": "amyuRt3AeqwX",
        "colab_type": "code",
        "colab": {
          "base_uri": "https://localhost:8080/",
          "height": 111
        },
        "outputId": "9cbca754-ede8-4a16-810f-d71b8f1c2522"
      },
      "source": [
        "whole_year.tail(2)"
      ],
      "execution_count": 50,
      "outputs": [
        {
          "output_type": "execute_result",
          "data": {
            "text/html": [
              "<div>\n",
              "<style scoped>\n",
              "    .dataframe tbody tr th:only-of-type {\n",
              "        vertical-align: middle;\n",
              "    }\n",
              "\n",
              "    .dataframe tbody tr th {\n",
              "        vertical-align: top;\n",
              "    }\n",
              "\n",
              "    .dataframe thead th {\n",
              "        text-align: right;\n",
              "    }\n",
              "</style>\n",
              "<table border=\"1\" class=\"dataframe\">\n",
              "  <thead>\n",
              "    <tr style=\"text-align: right;\">\n",
              "      <th></th>\n",
              "      <th>Year</th>\n",
              "      <th>Month</th>\n",
              "      <th>Day</th>\n",
              "      <th>DATE</th>\n",
              "    </tr>\n",
              "  </thead>\n",
              "  <tbody>\n",
              "    <tr>\n",
              "      <th>729</th>\n",
              "      <td>2021</td>\n",
              "      <td>12</td>\n",
              "      <td>30</td>\n",
              "      <td>2021-12-30</td>\n",
              "    </tr>\n",
              "    <tr>\n",
              "      <th>730</th>\n",
              "      <td>2021</td>\n",
              "      <td>12</td>\n",
              "      <td>31</td>\n",
              "      <td>2021-12-31</td>\n",
              "    </tr>\n",
              "  </tbody>\n",
              "</table>\n",
              "</div>"
            ],
            "text/plain": [
              "     Year  Month  Day        DATE\n",
              "729  2021     12   30  2021-12-30\n",
              "730  2021     12   31  2021-12-31"
            ]
          },
          "metadata": {
            "tags": []
          },
          "execution_count": 50
        }
      ]
    },
    {
      "cell_type": "code",
      "metadata": {
        "id": "DcCv9uNPewQi",
        "colab_type": "code",
        "colab": {
          "base_uri": "https://localhost:8080/",
          "height": 419
        },
        "outputId": "5ec4e3d2-bcad-48e3-9a4d-0bd6c703692e"
      },
      "source": [
        "whole_year.iloc[whole_year.index[whole_year['DATE']=='2020-9-17'][0]:,:]"
      ],
      "execution_count": 51,
      "outputs": [
        {
          "output_type": "execute_result",
          "data": {
            "text/html": [
              "<div>\n",
              "<style scoped>\n",
              "    .dataframe tbody tr th:only-of-type {\n",
              "        vertical-align: middle;\n",
              "    }\n",
              "\n",
              "    .dataframe tbody tr th {\n",
              "        vertical-align: top;\n",
              "    }\n",
              "\n",
              "    .dataframe thead th {\n",
              "        text-align: right;\n",
              "    }\n",
              "</style>\n",
              "<table border=\"1\" class=\"dataframe\">\n",
              "  <thead>\n",
              "    <tr style=\"text-align: right;\">\n",
              "      <th></th>\n",
              "      <th>Year</th>\n",
              "      <th>Month</th>\n",
              "      <th>Day</th>\n",
              "      <th>DATE</th>\n",
              "    </tr>\n",
              "  </thead>\n",
              "  <tbody>\n",
              "    <tr>\n",
              "      <th>260</th>\n",
              "      <td>2020</td>\n",
              "      <td>9</td>\n",
              "      <td>17</td>\n",
              "      <td>2020-9-17</td>\n",
              "    </tr>\n",
              "    <tr>\n",
              "      <th>261</th>\n",
              "      <td>2020</td>\n",
              "      <td>9</td>\n",
              "      <td>18</td>\n",
              "      <td>2020-9-18</td>\n",
              "    </tr>\n",
              "    <tr>\n",
              "      <th>262</th>\n",
              "      <td>2020</td>\n",
              "      <td>9</td>\n",
              "      <td>19</td>\n",
              "      <td>2020-9-19</td>\n",
              "    </tr>\n",
              "    <tr>\n",
              "      <th>263</th>\n",
              "      <td>2020</td>\n",
              "      <td>9</td>\n",
              "      <td>20</td>\n",
              "      <td>2020-9-20</td>\n",
              "    </tr>\n",
              "    <tr>\n",
              "      <th>264</th>\n",
              "      <td>2020</td>\n",
              "      <td>9</td>\n",
              "      <td>21</td>\n",
              "      <td>2020-9-21</td>\n",
              "    </tr>\n",
              "    <tr>\n",
              "      <th>...</th>\n",
              "      <td>...</td>\n",
              "      <td>...</td>\n",
              "      <td>...</td>\n",
              "      <td>...</td>\n",
              "    </tr>\n",
              "    <tr>\n",
              "      <th>726</th>\n",
              "      <td>2021</td>\n",
              "      <td>12</td>\n",
              "      <td>27</td>\n",
              "      <td>2021-12-27</td>\n",
              "    </tr>\n",
              "    <tr>\n",
              "      <th>727</th>\n",
              "      <td>2021</td>\n",
              "      <td>12</td>\n",
              "      <td>28</td>\n",
              "      <td>2021-12-28</td>\n",
              "    </tr>\n",
              "    <tr>\n",
              "      <th>728</th>\n",
              "      <td>2021</td>\n",
              "      <td>12</td>\n",
              "      <td>29</td>\n",
              "      <td>2021-12-29</td>\n",
              "    </tr>\n",
              "    <tr>\n",
              "      <th>729</th>\n",
              "      <td>2021</td>\n",
              "      <td>12</td>\n",
              "      <td>30</td>\n",
              "      <td>2021-12-30</td>\n",
              "    </tr>\n",
              "    <tr>\n",
              "      <th>730</th>\n",
              "      <td>2021</td>\n",
              "      <td>12</td>\n",
              "      <td>31</td>\n",
              "      <td>2021-12-31</td>\n",
              "    </tr>\n",
              "  </tbody>\n",
              "</table>\n",
              "<p>471 rows × 4 columns</p>\n",
              "</div>"
            ],
            "text/plain": [
              "     Year  Month  Day        DATE\n",
              "260  2020      9   17   2020-9-17\n",
              "261  2020      9   18   2020-9-18\n",
              "262  2020      9   19   2020-9-19\n",
              "263  2020      9   20   2020-9-20\n",
              "264  2020      9   21   2020-9-21\n",
              "..    ...    ...  ...         ...\n",
              "726  2021     12   27  2021-12-27\n",
              "727  2021     12   28  2021-12-28\n",
              "728  2021     12   29  2021-12-29\n",
              "729  2021     12   30  2021-12-30\n",
              "730  2021     12   31  2021-12-31\n",
              "\n",
              "[471 rows x 4 columns]"
            ]
          },
          "metadata": {
            "tags": []
          },
          "execution_count": 51
        }
      ]
    },
    {
      "cell_type": "markdown",
      "metadata": {
        "id": "BhmfVSC6oEVM",
        "colab_type": "text"
      },
      "source": [
        "We have 471 days from 2020-9-17 (date from which we don't have given data) to 2021-12-31"
      ]
    },
    {
      "cell_type": "markdown",
      "metadata": {
        "id": "kF_whB9Dvn1G",
        "colab_type": "text"
      },
      "source": [
        "####Creating 'fake rate' DataFrame"
      ]
    },
    {
      "cell_type": "code",
      "metadata": {
        "id": "45P21uDme1Oj",
        "colab_type": "code",
        "colab": {}
      },
      "source": [
        "fakeRate = []\n",
        "\n",
        "for i in range(471):\n",
        "  fakeRate.append(0.0008-i*0.0008*0.001)\n",
        "\n",
        "fakeRate = pd.DataFrame({'EFFR':fakeRate})"
      ],
      "execution_count": 52,
      "outputs": []
    },
    {
      "cell_type": "code",
      "metadata": {
        "id": "ksDQ_yVbOt2B",
        "colab_type": "code",
        "colab": {
          "base_uri": "https://localhost:8080/",
          "height": 419
        },
        "outputId": "8d3935e2-2a16-4793-85a6-964b1fd5be96"
      },
      "source": [
        "fakeRate"
      ],
      "execution_count": 53,
      "outputs": [
        {
          "output_type": "execute_result",
          "data": {
            "text/html": [
              "<div>\n",
              "<style scoped>\n",
              "    .dataframe tbody tr th:only-of-type {\n",
              "        vertical-align: middle;\n",
              "    }\n",
              "\n",
              "    .dataframe tbody tr th {\n",
              "        vertical-align: top;\n",
              "    }\n",
              "\n",
              "    .dataframe thead th {\n",
              "        text-align: right;\n",
              "    }\n",
              "</style>\n",
              "<table border=\"1\" class=\"dataframe\">\n",
              "  <thead>\n",
              "    <tr style=\"text-align: right;\">\n",
              "      <th></th>\n",
              "      <th>EFFR</th>\n",
              "    </tr>\n",
              "  </thead>\n",
              "  <tbody>\n",
              "    <tr>\n",
              "      <th>0</th>\n",
              "      <td>0.000800</td>\n",
              "    </tr>\n",
              "    <tr>\n",
              "      <th>1</th>\n",
              "      <td>0.000799</td>\n",
              "    </tr>\n",
              "    <tr>\n",
              "      <th>2</th>\n",
              "      <td>0.000798</td>\n",
              "    </tr>\n",
              "    <tr>\n",
              "      <th>3</th>\n",
              "      <td>0.000798</td>\n",
              "    </tr>\n",
              "    <tr>\n",
              "      <th>4</th>\n",
              "      <td>0.000797</td>\n",
              "    </tr>\n",
              "    <tr>\n",
              "      <th>...</th>\n",
              "      <td>...</td>\n",
              "    </tr>\n",
              "    <tr>\n",
              "      <th>466</th>\n",
              "      <td>0.000427</td>\n",
              "    </tr>\n",
              "    <tr>\n",
              "      <th>467</th>\n",
              "      <td>0.000426</td>\n",
              "    </tr>\n",
              "    <tr>\n",
              "      <th>468</th>\n",
              "      <td>0.000426</td>\n",
              "    </tr>\n",
              "    <tr>\n",
              "      <th>469</th>\n",
              "      <td>0.000425</td>\n",
              "    </tr>\n",
              "    <tr>\n",
              "      <th>470</th>\n",
              "      <td>0.000424</td>\n",
              "    </tr>\n",
              "  </tbody>\n",
              "</table>\n",
              "<p>471 rows × 1 columns</p>\n",
              "</div>"
            ],
            "text/plain": [
              "         EFFR\n",
              "0    0.000800\n",
              "1    0.000799\n",
              "2    0.000798\n",
              "3    0.000798\n",
              "4    0.000797\n",
              "..        ...\n",
              "466  0.000427\n",
              "467  0.000426\n",
              "468  0.000426\n",
              "469  0.000425\n",
              "470  0.000424\n",
              "\n",
              "[471 rows x 1 columns]"
            ]
          },
          "metadata": {
            "tags": []
          },
          "execution_count": 53
        }
      ]
    },
    {
      "cell_type": "markdown",
      "metadata": {
        "id": "QsH6m_NQuWCo",
        "colab_type": "text"
      },
      "source": [
        "####Reindexing and cleaning"
      ]
    },
    {
      "cell_type": "markdown",
      "metadata": {
        "id": "L74KLLVWnMF0",
        "colab_type": "text"
      },
      "source": [
        "Let's now change percentage values into numeric values and do some cleaning"
      ]
    },
    {
      "cell_type": "code",
      "metadata": {
        "id": "drbTlAsQQEDH",
        "colab_type": "code",
        "colab": {
          "base_uri": "https://localhost:8080/",
          "height": 204
        },
        "outputId": "c494166d-4243-4d08-9794-b593023b97ed"
      },
      "source": [
        "EFFR.head()"
      ],
      "execution_count": 54,
      "outputs": [
        {
          "output_type": "execute_result",
          "data": {
            "text/html": [
              "<div>\n",
              "<style scoped>\n",
              "    .dataframe tbody tr th:only-of-type {\n",
              "        vertical-align: middle;\n",
              "    }\n",
              "\n",
              "    .dataframe tbody tr th {\n",
              "        vertical-align: top;\n",
              "    }\n",
              "\n",
              "    .dataframe thead th {\n",
              "        text-align: right;\n",
              "    }\n",
              "</style>\n",
              "<table border=\"1\" class=\"dataframe\">\n",
              "  <thead>\n",
              "    <tr style=\"text-align: right;\">\n",
              "      <th></th>\n",
              "      <th>DATE</th>\n",
              "      <th>EFFR</th>\n",
              "    </tr>\n",
              "  </thead>\n",
              "  <tbody>\n",
              "    <tr>\n",
              "      <th>0</th>\n",
              "      <td>1954-07-01</td>\n",
              "      <td>1.13</td>\n",
              "    </tr>\n",
              "    <tr>\n",
              "      <th>1</th>\n",
              "      <td>1954-07-02</td>\n",
              "      <td>1.25</td>\n",
              "    </tr>\n",
              "    <tr>\n",
              "      <th>2</th>\n",
              "      <td>1954-07-03</td>\n",
              "      <td>1.25</td>\n",
              "    </tr>\n",
              "    <tr>\n",
              "      <th>3</th>\n",
              "      <td>1954-07-04</td>\n",
              "      <td>1.25</td>\n",
              "    </tr>\n",
              "    <tr>\n",
              "      <th>4</th>\n",
              "      <td>1954-07-05</td>\n",
              "      <td>0.88</td>\n",
              "    </tr>\n",
              "  </tbody>\n",
              "</table>\n",
              "</div>"
            ],
            "text/plain": [
              "         DATE  EFFR\n",
              "0  1954-07-01  1.13\n",
              "1  1954-07-02  1.25\n",
              "2  1954-07-03  1.25\n",
              "3  1954-07-04  1.25\n",
              "4  1954-07-05  0.88"
            ]
          },
          "metadata": {
            "tags": []
          },
          "execution_count": 54
        }
      ]
    },
    {
      "cell_type": "code",
      "metadata": {
        "id": "63AZUuGXQanQ",
        "colab_type": "code",
        "colab": {}
      },
      "source": [
        "EFFR = EFFR.rename(columns={'DFF':'EFFR'})"
      ],
      "execution_count": 55,
      "outputs": []
    },
    {
      "cell_type": "code",
      "metadata": {
        "id": "7OBsl-pmnRiB",
        "colab_type": "code",
        "colab": {}
      },
      "source": [
        "EFFR['EFFR'] = EFFR['EFFR'].apply(lambda x: x/100)"
      ],
      "execution_count": 56,
      "outputs": []
    },
    {
      "cell_type": "code",
      "metadata": {
        "id": "WB9Zii52ncjy",
        "colab_type": "code",
        "colab": {
          "base_uri": "https://localhost:8080/",
          "height": 419
        },
        "outputId": "504590bb-90a9-4d77-f9bc-86a4ab97717c"
      },
      "source": [
        "EFFR"
      ],
      "execution_count": 57,
      "outputs": [
        {
          "output_type": "execute_result",
          "data": {
            "text/html": [
              "<div>\n",
              "<style scoped>\n",
              "    .dataframe tbody tr th:only-of-type {\n",
              "        vertical-align: middle;\n",
              "    }\n",
              "\n",
              "    .dataframe tbody tr th {\n",
              "        vertical-align: top;\n",
              "    }\n",
              "\n",
              "    .dataframe thead th {\n",
              "        text-align: right;\n",
              "    }\n",
              "</style>\n",
              "<table border=\"1\" class=\"dataframe\">\n",
              "  <thead>\n",
              "    <tr style=\"text-align: right;\">\n",
              "      <th></th>\n",
              "      <th>DATE</th>\n",
              "      <th>EFFR</th>\n",
              "    </tr>\n",
              "  </thead>\n",
              "  <tbody>\n",
              "    <tr>\n",
              "      <th>0</th>\n",
              "      <td>1954-07-01</td>\n",
              "      <td>0.0113</td>\n",
              "    </tr>\n",
              "    <tr>\n",
              "      <th>1</th>\n",
              "      <td>1954-07-02</td>\n",
              "      <td>0.0125</td>\n",
              "    </tr>\n",
              "    <tr>\n",
              "      <th>2</th>\n",
              "      <td>1954-07-03</td>\n",
              "      <td>0.0125</td>\n",
              "    </tr>\n",
              "    <tr>\n",
              "      <th>3</th>\n",
              "      <td>1954-07-04</td>\n",
              "      <td>0.0125</td>\n",
              "    </tr>\n",
              "    <tr>\n",
              "      <th>4</th>\n",
              "      <td>1954-07-05</td>\n",
              "      <td>0.0088</td>\n",
              "    </tr>\n",
              "    <tr>\n",
              "      <th>...</th>\n",
              "      <td>...</td>\n",
              "      <td>...</td>\n",
              "    </tr>\n",
              "    <tr>\n",
              "      <th>24180</th>\n",
              "      <td>2020-09-12</td>\n",
              "      <td>0.0009</td>\n",
              "    </tr>\n",
              "    <tr>\n",
              "      <th>24181</th>\n",
              "      <td>2020-09-13</td>\n",
              "      <td>0.0009</td>\n",
              "    </tr>\n",
              "    <tr>\n",
              "      <th>24182</th>\n",
              "      <td>2020-09-14</td>\n",
              "      <td>0.0009</td>\n",
              "    </tr>\n",
              "    <tr>\n",
              "      <th>24183</th>\n",
              "      <td>2020-09-15</td>\n",
              "      <td>0.0009</td>\n",
              "    </tr>\n",
              "    <tr>\n",
              "      <th>24184</th>\n",
              "      <td>2020-09-16</td>\n",
              "      <td>0.0009</td>\n",
              "    </tr>\n",
              "  </tbody>\n",
              "</table>\n",
              "<p>24185 rows × 2 columns</p>\n",
              "</div>"
            ],
            "text/plain": [
              "             DATE    EFFR\n",
              "0      1954-07-01  0.0113\n",
              "1      1954-07-02  0.0125\n",
              "2      1954-07-03  0.0125\n",
              "3      1954-07-04  0.0125\n",
              "4      1954-07-05  0.0088\n",
              "...           ...     ...\n",
              "24180  2020-09-12  0.0009\n",
              "24181  2020-09-13  0.0009\n",
              "24182  2020-09-14  0.0009\n",
              "24183  2020-09-15  0.0009\n",
              "24184  2020-09-16  0.0009\n",
              "\n",
              "[24185 rows x 2 columns]"
            ]
          },
          "metadata": {
            "tags": []
          },
          "execution_count": 57
        }
      ]
    },
    {
      "cell_type": "markdown",
      "metadata": {
        "id": "MBbAwjXWuiQk",
        "colab_type": "text"
      },
      "source": [
        "###Extracting proper data rows"
      ]
    },
    {
      "cell_type": "code",
      "metadata": {
        "id": "rsq1p6ycR9qD",
        "colab_type": "code",
        "colab": {}
      },
      "source": [
        "effr_head = pd.DataFrame(EFFR.iloc[EFFR.index[EFFR['DATE']=='2020-01-01'][0]:,1])\n",
        "effr_tail = fakeRate"
      ],
      "execution_count": 58,
      "outputs": []
    },
    {
      "cell_type": "markdown",
      "metadata": {
        "id": "1lOp6fzjurYH",
        "colab_type": "text"
      },
      "source": [
        "##Predictions dataset\n"
      ]
    },
    {
      "cell_type": "code",
      "metadata": {
        "id": "N4_kNdmEfQZO",
        "colab_type": "code",
        "colab": {}
      },
      "source": [
        "dates2021 = whole_year\n",
        "effr2021 = effr_head.append(effr_tail)"
      ],
      "execution_count": 59,
      "outputs": []
    },
    {
      "cell_type": "code",
      "metadata": {
        "id": "4wwCNjUbol3X",
        "colab_type": "code",
        "colab": {
          "base_uri": "https://localhost:8080/",
          "height": 419
        },
        "outputId": "3b01d1cd-1225-473c-9c34-6ccb6b46e101"
      },
      "source": [
        "dates2021"
      ],
      "execution_count": 60,
      "outputs": [
        {
          "output_type": "execute_result",
          "data": {
            "text/html": [
              "<div>\n",
              "<style scoped>\n",
              "    .dataframe tbody tr th:only-of-type {\n",
              "        vertical-align: middle;\n",
              "    }\n",
              "\n",
              "    .dataframe tbody tr th {\n",
              "        vertical-align: top;\n",
              "    }\n",
              "\n",
              "    .dataframe thead th {\n",
              "        text-align: right;\n",
              "    }\n",
              "</style>\n",
              "<table border=\"1\" class=\"dataframe\">\n",
              "  <thead>\n",
              "    <tr style=\"text-align: right;\">\n",
              "      <th></th>\n",
              "      <th>Year</th>\n",
              "      <th>Month</th>\n",
              "      <th>Day</th>\n",
              "      <th>DATE</th>\n",
              "    </tr>\n",
              "  </thead>\n",
              "  <tbody>\n",
              "    <tr>\n",
              "      <th>0</th>\n",
              "      <td>2020</td>\n",
              "      <td>1</td>\n",
              "      <td>1</td>\n",
              "      <td>2020-1-1</td>\n",
              "    </tr>\n",
              "    <tr>\n",
              "      <th>1</th>\n",
              "      <td>2020</td>\n",
              "      <td>1</td>\n",
              "      <td>2</td>\n",
              "      <td>2020-1-2</td>\n",
              "    </tr>\n",
              "    <tr>\n",
              "      <th>2</th>\n",
              "      <td>2020</td>\n",
              "      <td>1</td>\n",
              "      <td>3</td>\n",
              "      <td>2020-1-3</td>\n",
              "    </tr>\n",
              "    <tr>\n",
              "      <th>3</th>\n",
              "      <td>2020</td>\n",
              "      <td>1</td>\n",
              "      <td>4</td>\n",
              "      <td>2020-1-4</td>\n",
              "    </tr>\n",
              "    <tr>\n",
              "      <th>4</th>\n",
              "      <td>2020</td>\n",
              "      <td>1</td>\n",
              "      <td>5</td>\n",
              "      <td>2020-1-5</td>\n",
              "    </tr>\n",
              "    <tr>\n",
              "      <th>...</th>\n",
              "      <td>...</td>\n",
              "      <td>...</td>\n",
              "      <td>...</td>\n",
              "      <td>...</td>\n",
              "    </tr>\n",
              "    <tr>\n",
              "      <th>726</th>\n",
              "      <td>2021</td>\n",
              "      <td>12</td>\n",
              "      <td>27</td>\n",
              "      <td>2021-12-27</td>\n",
              "    </tr>\n",
              "    <tr>\n",
              "      <th>727</th>\n",
              "      <td>2021</td>\n",
              "      <td>12</td>\n",
              "      <td>28</td>\n",
              "      <td>2021-12-28</td>\n",
              "    </tr>\n",
              "    <tr>\n",
              "      <th>728</th>\n",
              "      <td>2021</td>\n",
              "      <td>12</td>\n",
              "      <td>29</td>\n",
              "      <td>2021-12-29</td>\n",
              "    </tr>\n",
              "    <tr>\n",
              "      <th>729</th>\n",
              "      <td>2021</td>\n",
              "      <td>12</td>\n",
              "      <td>30</td>\n",
              "      <td>2021-12-30</td>\n",
              "    </tr>\n",
              "    <tr>\n",
              "      <th>730</th>\n",
              "      <td>2021</td>\n",
              "      <td>12</td>\n",
              "      <td>31</td>\n",
              "      <td>2021-12-31</td>\n",
              "    </tr>\n",
              "  </tbody>\n",
              "</table>\n",
              "<p>731 rows × 4 columns</p>\n",
              "</div>"
            ],
            "text/plain": [
              "     Year  Month  Day        DATE\n",
              "0    2020      1    1    2020-1-1\n",
              "1    2020      1    2    2020-1-2\n",
              "2    2020      1    3    2020-1-3\n",
              "3    2020      1    4    2020-1-4\n",
              "4    2020      1    5    2020-1-5\n",
              "..    ...    ...  ...         ...\n",
              "726  2021     12   27  2021-12-27\n",
              "727  2021     12   28  2021-12-28\n",
              "728  2021     12   29  2021-12-29\n",
              "729  2021     12   30  2021-12-30\n",
              "730  2021     12   31  2021-12-31\n",
              "\n",
              "[731 rows x 4 columns]"
            ]
          },
          "metadata": {
            "tags": []
          },
          "execution_count": 60
        }
      ]
    },
    {
      "cell_type": "code",
      "metadata": {
        "id": "G7O2f7ZCfV98",
        "colab_type": "code",
        "colab": {
          "base_uri": "https://localhost:8080/",
          "height": 204
        },
        "outputId": "e13011fd-48b7-448d-9849-c7d33a690681"
      },
      "source": [
        "effr2021.head()"
      ],
      "execution_count": 61,
      "outputs": [
        {
          "output_type": "execute_result",
          "data": {
            "text/html": [
              "<div>\n",
              "<style scoped>\n",
              "    .dataframe tbody tr th:only-of-type {\n",
              "        vertical-align: middle;\n",
              "    }\n",
              "\n",
              "    .dataframe tbody tr th {\n",
              "        vertical-align: top;\n",
              "    }\n",
              "\n",
              "    .dataframe thead th {\n",
              "        text-align: right;\n",
              "    }\n",
              "</style>\n",
              "<table border=\"1\" class=\"dataframe\">\n",
              "  <thead>\n",
              "    <tr style=\"text-align: right;\">\n",
              "      <th></th>\n",
              "      <th>EFFR</th>\n",
              "    </tr>\n",
              "  </thead>\n",
              "  <tbody>\n",
              "    <tr>\n",
              "      <th>23925</th>\n",
              "      <td>0.0155</td>\n",
              "    </tr>\n",
              "    <tr>\n",
              "      <th>23926</th>\n",
              "      <td>0.0155</td>\n",
              "    </tr>\n",
              "    <tr>\n",
              "      <th>23927</th>\n",
              "      <td>0.0155</td>\n",
              "    </tr>\n",
              "    <tr>\n",
              "      <th>23928</th>\n",
              "      <td>0.0155</td>\n",
              "    </tr>\n",
              "    <tr>\n",
              "      <th>23929</th>\n",
              "      <td>0.0155</td>\n",
              "    </tr>\n",
              "  </tbody>\n",
              "</table>\n",
              "</div>"
            ],
            "text/plain": [
              "         EFFR\n",
              "23925  0.0155\n",
              "23926  0.0155\n",
              "23927  0.0155\n",
              "23928  0.0155\n",
              "23929  0.0155"
            ]
          },
          "metadata": {
            "tags": []
          },
          "execution_count": 61
        }
      ]
    },
    {
      "cell_type": "markdown",
      "metadata": {
        "id": "RgQgd7udowtN",
        "colab_type": "text"
      },
      "source": [
        "Now we can connect both DataFrames. But first lets reindex our predictions_effr DataFrame in order to predictions_date in case of data loss"
      ]
    },
    {
      "cell_type": "code",
      "metadata": {
        "id": "H4QiLgHVznOU",
        "colab_type": "code",
        "colab": {}
      },
      "source": [
        "effr2021 = effr2021.set_index(dates2021.index)"
      ],
      "execution_count": 62,
      "outputs": []
    },
    {
      "cell_type": "code",
      "metadata": {
        "id": "Xih7LCw1lQ7E",
        "colab_type": "code",
        "colab": {}
      },
      "source": [
        "dates2021['EFFR'] = effr2021"
      ],
      "execution_count": 63,
      "outputs": []
    },
    {
      "cell_type": "code",
      "metadata": {
        "id": "DPNt5D8PhYTQ",
        "colab_type": "code",
        "colab": {}
      },
      "source": [
        "data2021 = dates2021"
      ],
      "execution_count": 64,
      "outputs": []
    },
    {
      "cell_type": "code",
      "metadata": {
        "id": "WhSPW0W8z1JO",
        "colab_type": "code",
        "colab": {
          "base_uri": "https://localhost:8080/",
          "height": 419
        },
        "outputId": "d2b0623b-c254-483e-8a06-12af4b86267b"
      },
      "source": [
        "data2021"
      ],
      "execution_count": 65,
      "outputs": [
        {
          "output_type": "execute_result",
          "data": {
            "text/html": [
              "<div>\n",
              "<style scoped>\n",
              "    .dataframe tbody tr th:only-of-type {\n",
              "        vertical-align: middle;\n",
              "    }\n",
              "\n",
              "    .dataframe tbody tr th {\n",
              "        vertical-align: top;\n",
              "    }\n",
              "\n",
              "    .dataframe thead th {\n",
              "        text-align: right;\n",
              "    }\n",
              "</style>\n",
              "<table border=\"1\" class=\"dataframe\">\n",
              "  <thead>\n",
              "    <tr style=\"text-align: right;\">\n",
              "      <th></th>\n",
              "      <th>Year</th>\n",
              "      <th>Month</th>\n",
              "      <th>Day</th>\n",
              "      <th>DATE</th>\n",
              "      <th>EFFR</th>\n",
              "    </tr>\n",
              "  </thead>\n",
              "  <tbody>\n",
              "    <tr>\n",
              "      <th>0</th>\n",
              "      <td>2020</td>\n",
              "      <td>1</td>\n",
              "      <td>1</td>\n",
              "      <td>2020-1-1</td>\n",
              "      <td>0.015500</td>\n",
              "    </tr>\n",
              "    <tr>\n",
              "      <th>1</th>\n",
              "      <td>2020</td>\n",
              "      <td>1</td>\n",
              "      <td>2</td>\n",
              "      <td>2020-1-2</td>\n",
              "      <td>0.015500</td>\n",
              "    </tr>\n",
              "    <tr>\n",
              "      <th>2</th>\n",
              "      <td>2020</td>\n",
              "      <td>1</td>\n",
              "      <td>3</td>\n",
              "      <td>2020-1-3</td>\n",
              "      <td>0.015500</td>\n",
              "    </tr>\n",
              "    <tr>\n",
              "      <th>3</th>\n",
              "      <td>2020</td>\n",
              "      <td>1</td>\n",
              "      <td>4</td>\n",
              "      <td>2020-1-4</td>\n",
              "      <td>0.015500</td>\n",
              "    </tr>\n",
              "    <tr>\n",
              "      <th>4</th>\n",
              "      <td>2020</td>\n",
              "      <td>1</td>\n",
              "      <td>5</td>\n",
              "      <td>2020-1-5</td>\n",
              "      <td>0.015500</td>\n",
              "    </tr>\n",
              "    <tr>\n",
              "      <th>...</th>\n",
              "      <td>...</td>\n",
              "      <td>...</td>\n",
              "      <td>...</td>\n",
              "      <td>...</td>\n",
              "      <td>...</td>\n",
              "    </tr>\n",
              "    <tr>\n",
              "      <th>726</th>\n",
              "      <td>2021</td>\n",
              "      <td>12</td>\n",
              "      <td>27</td>\n",
              "      <td>2021-12-27</td>\n",
              "      <td>0.000427</td>\n",
              "    </tr>\n",
              "    <tr>\n",
              "      <th>727</th>\n",
              "      <td>2021</td>\n",
              "      <td>12</td>\n",
              "      <td>28</td>\n",
              "      <td>2021-12-28</td>\n",
              "      <td>0.000426</td>\n",
              "    </tr>\n",
              "    <tr>\n",
              "      <th>728</th>\n",
              "      <td>2021</td>\n",
              "      <td>12</td>\n",
              "      <td>29</td>\n",
              "      <td>2021-12-29</td>\n",
              "      <td>0.000426</td>\n",
              "    </tr>\n",
              "    <tr>\n",
              "      <th>729</th>\n",
              "      <td>2021</td>\n",
              "      <td>12</td>\n",
              "      <td>30</td>\n",
              "      <td>2021-12-30</td>\n",
              "      <td>0.000425</td>\n",
              "    </tr>\n",
              "    <tr>\n",
              "      <th>730</th>\n",
              "      <td>2021</td>\n",
              "      <td>12</td>\n",
              "      <td>31</td>\n",
              "      <td>2021-12-31</td>\n",
              "      <td>0.000424</td>\n",
              "    </tr>\n",
              "  </tbody>\n",
              "</table>\n",
              "<p>731 rows × 5 columns</p>\n",
              "</div>"
            ],
            "text/plain": [
              "     Year  Month  Day        DATE      EFFR\n",
              "0    2020      1    1    2020-1-1  0.015500\n",
              "1    2020      1    2    2020-1-2  0.015500\n",
              "2    2020      1    3    2020-1-3  0.015500\n",
              "3    2020      1    4    2020-1-4  0.015500\n",
              "4    2020      1    5    2020-1-5  0.015500\n",
              "..    ...    ...  ...         ...       ...\n",
              "726  2021     12   27  2021-12-27  0.000427\n",
              "727  2021     12   28  2021-12-28  0.000426\n",
              "728  2021     12   29  2021-12-29  0.000426\n",
              "729  2021     12   30  2021-12-30  0.000425\n",
              "730  2021     12   31  2021-12-31  0.000424\n",
              "\n",
              "[731 rows x 5 columns]"
            ]
          },
          "metadata": {
            "tags": []
          },
          "execution_count": 65
        }
      ]
    },
    {
      "cell_type": "code",
      "metadata": {
        "id": "BwP2l7-ohYzF",
        "colab_type": "code",
        "colab": {
          "base_uri": "https://localhost:8080/",
          "height": 419
        },
        "outputId": "00927214-2452-4b43-a218-c9bab4ef0b25"
      },
      "source": [
        "data2021_known = data2021.iloc[:data2021.index[data2021['DATE']=='2020-4-1'][0]+1,:]\n",
        "data2021_known"
      ],
      "execution_count": 66,
      "outputs": [
        {
          "output_type": "execute_result",
          "data": {
            "text/html": [
              "<div>\n",
              "<style scoped>\n",
              "    .dataframe tbody tr th:only-of-type {\n",
              "        vertical-align: middle;\n",
              "    }\n",
              "\n",
              "    .dataframe tbody tr th {\n",
              "        vertical-align: top;\n",
              "    }\n",
              "\n",
              "    .dataframe thead th {\n",
              "        text-align: right;\n",
              "    }\n",
              "</style>\n",
              "<table border=\"1\" class=\"dataframe\">\n",
              "  <thead>\n",
              "    <tr style=\"text-align: right;\">\n",
              "      <th></th>\n",
              "      <th>Year</th>\n",
              "      <th>Month</th>\n",
              "      <th>Day</th>\n",
              "      <th>DATE</th>\n",
              "      <th>EFFR</th>\n",
              "    </tr>\n",
              "  </thead>\n",
              "  <tbody>\n",
              "    <tr>\n",
              "      <th>0</th>\n",
              "      <td>2020</td>\n",
              "      <td>1</td>\n",
              "      <td>1</td>\n",
              "      <td>2020-1-1</td>\n",
              "      <td>0.0155</td>\n",
              "    </tr>\n",
              "    <tr>\n",
              "      <th>1</th>\n",
              "      <td>2020</td>\n",
              "      <td>1</td>\n",
              "      <td>2</td>\n",
              "      <td>2020-1-2</td>\n",
              "      <td>0.0155</td>\n",
              "    </tr>\n",
              "    <tr>\n",
              "      <th>2</th>\n",
              "      <td>2020</td>\n",
              "      <td>1</td>\n",
              "      <td>3</td>\n",
              "      <td>2020-1-3</td>\n",
              "      <td>0.0155</td>\n",
              "    </tr>\n",
              "    <tr>\n",
              "      <th>3</th>\n",
              "      <td>2020</td>\n",
              "      <td>1</td>\n",
              "      <td>4</td>\n",
              "      <td>2020-1-4</td>\n",
              "      <td>0.0155</td>\n",
              "    </tr>\n",
              "    <tr>\n",
              "      <th>4</th>\n",
              "      <td>2020</td>\n",
              "      <td>1</td>\n",
              "      <td>5</td>\n",
              "      <td>2020-1-5</td>\n",
              "      <td>0.0155</td>\n",
              "    </tr>\n",
              "    <tr>\n",
              "      <th>...</th>\n",
              "      <td>...</td>\n",
              "      <td>...</td>\n",
              "      <td>...</td>\n",
              "      <td>...</td>\n",
              "      <td>...</td>\n",
              "    </tr>\n",
              "    <tr>\n",
              "      <th>87</th>\n",
              "      <td>2020</td>\n",
              "      <td>3</td>\n",
              "      <td>28</td>\n",
              "      <td>2020-3-28</td>\n",
              "      <td>0.0010</td>\n",
              "    </tr>\n",
              "    <tr>\n",
              "      <th>88</th>\n",
              "      <td>2020</td>\n",
              "      <td>3</td>\n",
              "      <td>29</td>\n",
              "      <td>2020-3-29</td>\n",
              "      <td>0.0010</td>\n",
              "    </tr>\n",
              "    <tr>\n",
              "      <th>89</th>\n",
              "      <td>2020</td>\n",
              "      <td>3</td>\n",
              "      <td>30</td>\n",
              "      <td>2020-3-30</td>\n",
              "      <td>0.0009</td>\n",
              "    </tr>\n",
              "    <tr>\n",
              "      <th>90</th>\n",
              "      <td>2020</td>\n",
              "      <td>3</td>\n",
              "      <td>31</td>\n",
              "      <td>2020-3-31</td>\n",
              "      <td>0.0008</td>\n",
              "    </tr>\n",
              "    <tr>\n",
              "      <th>91</th>\n",
              "      <td>2020</td>\n",
              "      <td>4</td>\n",
              "      <td>1</td>\n",
              "      <td>2020-4-1</td>\n",
              "      <td>0.0006</td>\n",
              "    </tr>\n",
              "  </tbody>\n",
              "</table>\n",
              "<p>92 rows × 5 columns</p>\n",
              "</div>"
            ],
            "text/plain": [
              "    Year  Month  Day       DATE    EFFR\n",
              "0   2020      1    1   2020-1-1  0.0155\n",
              "1   2020      1    2   2020-1-2  0.0155\n",
              "2   2020      1    3   2020-1-3  0.0155\n",
              "3   2020      1    4   2020-1-4  0.0155\n",
              "4   2020      1    5   2020-1-5  0.0155\n",
              "..   ...    ...  ...        ...     ...\n",
              "87  2020      3   28  2020-3-28  0.0010\n",
              "88  2020      3   29  2020-3-29  0.0010\n",
              "89  2020      3   30  2020-3-30  0.0009\n",
              "90  2020      3   31  2020-3-31  0.0008\n",
              "91  2020      4    1   2020-4-1  0.0006\n",
              "\n",
              "[92 rows x 5 columns]"
            ]
          },
          "metadata": {
            "tags": []
          },
          "execution_count": 66
        }
      ]
    },
    {
      "cell_type": "code",
      "metadata": {
        "id": "mtMmSGcWiKuh",
        "colab_type": "code",
        "colab": {
          "base_uri": "https://localhost:8080/",
          "height": 419
        },
        "outputId": "0836f832-269c-48eb-dc95-8b23fc2bec78"
      },
      "source": [
        "data2021_unknown = data2021.iloc[data2021.index[data2021['DATE']=='2020-4-1'][0]:,:]\n",
        "data2021_unknown"
      ],
      "execution_count": 67,
      "outputs": [
        {
          "output_type": "execute_result",
          "data": {
            "text/html": [
              "<div>\n",
              "<style scoped>\n",
              "    .dataframe tbody tr th:only-of-type {\n",
              "        vertical-align: middle;\n",
              "    }\n",
              "\n",
              "    .dataframe tbody tr th {\n",
              "        vertical-align: top;\n",
              "    }\n",
              "\n",
              "    .dataframe thead th {\n",
              "        text-align: right;\n",
              "    }\n",
              "</style>\n",
              "<table border=\"1\" class=\"dataframe\">\n",
              "  <thead>\n",
              "    <tr style=\"text-align: right;\">\n",
              "      <th></th>\n",
              "      <th>Year</th>\n",
              "      <th>Month</th>\n",
              "      <th>Day</th>\n",
              "      <th>DATE</th>\n",
              "      <th>EFFR</th>\n",
              "    </tr>\n",
              "  </thead>\n",
              "  <tbody>\n",
              "    <tr>\n",
              "      <th>91</th>\n",
              "      <td>2020</td>\n",
              "      <td>4</td>\n",
              "      <td>1</td>\n",
              "      <td>2020-4-1</td>\n",
              "      <td>0.000600</td>\n",
              "    </tr>\n",
              "    <tr>\n",
              "      <th>92</th>\n",
              "      <td>2020</td>\n",
              "      <td>4</td>\n",
              "      <td>2</td>\n",
              "      <td>2020-4-2</td>\n",
              "      <td>0.000500</td>\n",
              "    </tr>\n",
              "    <tr>\n",
              "      <th>93</th>\n",
              "      <td>2020</td>\n",
              "      <td>4</td>\n",
              "      <td>3</td>\n",
              "      <td>2020-4-3</td>\n",
              "      <td>0.000500</td>\n",
              "    </tr>\n",
              "    <tr>\n",
              "      <th>94</th>\n",
              "      <td>2020</td>\n",
              "      <td>4</td>\n",
              "      <td>4</td>\n",
              "      <td>2020-4-4</td>\n",
              "      <td>0.000500</td>\n",
              "    </tr>\n",
              "    <tr>\n",
              "      <th>95</th>\n",
              "      <td>2020</td>\n",
              "      <td>4</td>\n",
              "      <td>5</td>\n",
              "      <td>2020-4-5</td>\n",
              "      <td>0.000500</td>\n",
              "    </tr>\n",
              "    <tr>\n",
              "      <th>...</th>\n",
              "      <td>...</td>\n",
              "      <td>...</td>\n",
              "      <td>...</td>\n",
              "      <td>...</td>\n",
              "      <td>...</td>\n",
              "    </tr>\n",
              "    <tr>\n",
              "      <th>726</th>\n",
              "      <td>2021</td>\n",
              "      <td>12</td>\n",
              "      <td>27</td>\n",
              "      <td>2021-12-27</td>\n",
              "      <td>0.000427</td>\n",
              "    </tr>\n",
              "    <tr>\n",
              "      <th>727</th>\n",
              "      <td>2021</td>\n",
              "      <td>12</td>\n",
              "      <td>28</td>\n",
              "      <td>2021-12-28</td>\n",
              "      <td>0.000426</td>\n",
              "    </tr>\n",
              "    <tr>\n",
              "      <th>728</th>\n",
              "      <td>2021</td>\n",
              "      <td>12</td>\n",
              "      <td>29</td>\n",
              "      <td>2021-12-29</td>\n",
              "      <td>0.000426</td>\n",
              "    </tr>\n",
              "    <tr>\n",
              "      <th>729</th>\n",
              "      <td>2021</td>\n",
              "      <td>12</td>\n",
              "      <td>30</td>\n",
              "      <td>2021-12-30</td>\n",
              "      <td>0.000425</td>\n",
              "    </tr>\n",
              "    <tr>\n",
              "      <th>730</th>\n",
              "      <td>2021</td>\n",
              "      <td>12</td>\n",
              "      <td>31</td>\n",
              "      <td>2021-12-31</td>\n",
              "      <td>0.000424</td>\n",
              "    </tr>\n",
              "  </tbody>\n",
              "</table>\n",
              "<p>640 rows × 5 columns</p>\n",
              "</div>"
            ],
            "text/plain": [
              "     Year  Month  Day        DATE      EFFR\n",
              "91   2020      4    1    2020-4-1  0.000600\n",
              "92   2020      4    2    2020-4-2  0.000500\n",
              "93   2020      4    3    2020-4-3  0.000500\n",
              "94   2020      4    4    2020-4-4  0.000500\n",
              "95   2020      4    5    2020-4-5  0.000500\n",
              "..    ...    ...  ...         ...       ...\n",
              "726  2021     12   27  2021-12-27  0.000427\n",
              "727  2021     12   28  2021-12-28  0.000426\n",
              "728  2021     12   29  2021-12-29  0.000426\n",
              "729  2021     12   30  2021-12-30  0.000425\n",
              "730  2021     12   31  2021-12-31  0.000424\n",
              "\n",
              "[640 rows x 5 columns]"
            ]
          },
          "metadata": {
            "tags": []
          },
          "execution_count": 67
        }
      ]
    },
    {
      "cell_type": "code",
      "metadata": {
        "id": "L8YDqX8bhvQ-",
        "colab_type": "code",
        "colab": {
          "base_uri": "https://localhost:8080/",
          "height": 204
        },
        "outputId": "e1c2a3ef-fa5e-444d-8cfe-71cebedf6315"
      },
      "source": [
        "google.tail()"
      ],
      "execution_count": 68,
      "outputs": [
        {
          "output_type": "execute_result",
          "data": {
            "text/html": [
              "<div>\n",
              "<style scoped>\n",
              "    .dataframe tbody tr th:only-of-type {\n",
              "        vertical-align: middle;\n",
              "    }\n",
              "\n",
              "    .dataframe tbody tr th {\n",
              "        vertical-align: top;\n",
              "    }\n",
              "\n",
              "    .dataframe thead th {\n",
              "        text-align: right;\n",
              "    }\n",
              "</style>\n",
              "<table border=\"1\" class=\"dataframe\">\n",
              "  <thead>\n",
              "    <tr style=\"text-align: right;\">\n",
              "      <th></th>\n",
              "      <th>Date</th>\n",
              "      <th>Year</th>\n",
              "      <th>Month</th>\n",
              "      <th>Day</th>\n",
              "      <th>EFFR</th>\n",
              "      <th>Close</th>\n",
              "    </tr>\n",
              "  </thead>\n",
              "  <tbody>\n",
              "    <tr>\n",
              "      <th>3897</th>\n",
              "      <td>2020-02-12</td>\n",
              "      <td>2020</td>\n",
              "      <td>2</td>\n",
              "      <td>12</td>\n",
              "      <td>0.0158</td>\n",
              "      <td>1518.630005</td>\n",
              "    </tr>\n",
              "    <tr>\n",
              "      <th>3898</th>\n",
              "      <td>2020-02-13</td>\n",
              "      <td>2020</td>\n",
              "      <td>2</td>\n",
              "      <td>13</td>\n",
              "      <td>0.0158</td>\n",
              "      <td>1513.390015</td>\n",
              "    </tr>\n",
              "    <tr>\n",
              "      <th>3899</th>\n",
              "      <td>2020-02-14</td>\n",
              "      <td>2020</td>\n",
              "      <td>2</td>\n",
              "      <td>14</td>\n",
              "      <td>0.0158</td>\n",
              "      <td>1518.729980</td>\n",
              "    </tr>\n",
              "    <tr>\n",
              "      <th>3900</th>\n",
              "      <td>2020-02-18</td>\n",
              "      <td>2020</td>\n",
              "      <td>2</td>\n",
              "      <td>18</td>\n",
              "      <td>0.0159</td>\n",
              "      <td>1519.439941</td>\n",
              "    </tr>\n",
              "    <tr>\n",
              "      <th>3901</th>\n",
              "      <td>2020-02-19</td>\n",
              "      <td>2020</td>\n",
              "      <td>2</td>\n",
              "      <td>19</td>\n",
              "      <td>0.0159</td>\n",
              "      <td>1524.869995</td>\n",
              "    </tr>\n",
              "  </tbody>\n",
              "</table>\n",
              "</div>"
            ],
            "text/plain": [
              "            Date  Year  Month  Day    EFFR        Close\n",
              "3897  2020-02-12  2020      2   12  0.0158  1518.630005\n",
              "3898  2020-02-13  2020      2   13  0.0158  1513.390015\n",
              "3899  2020-02-14  2020      2   14  0.0158  1518.729980\n",
              "3900  2020-02-18  2020      2   18  0.0159  1519.439941\n",
              "3901  2020-02-19  2020      2   19  0.0159  1524.869995"
            ]
          },
          "metadata": {
            "tags": []
          },
          "execution_count": 68
        }
      ]
    },
    {
      "cell_type": "markdown",
      "metadata": {
        "id": "_nD3AXEluDF2",
        "colab_type": "text"
      },
      "source": [
        "##Final multivariate linear regression modeling"
      ]
    },
    {
      "cell_type": "markdown",
      "metadata": {
        "id": "rQs4OnlewXb-",
        "colab_type": "text"
      },
      "source": [
        "Now I will use lm_renewed trained model to predict Google's stokcs' prices. To fit our predictions dataset I will create new DataFrame data2021_r without 'DATE' column"
      ]
    },
    {
      "cell_type": "code",
      "metadata": {
        "id": "DAeR6NlkwiQ7",
        "colab_type": "code",
        "colab": {}
      },
      "source": [
        "data2021_r = data2021\n",
        "data2021_r.drop('DATE',axis=1,inplace=True)"
      ],
      "execution_count": 69,
      "outputs": []
    },
    {
      "cell_type": "code",
      "metadata": {
        "id": "R2V5zP_I0qgM",
        "colab_type": "code",
        "colab": {
          "base_uri": "https://localhost:8080/",
          "height": 419
        },
        "outputId": "db9e17c6-9786-4767-945d-ce742d5706a6"
      },
      "source": [
        "data2021_r = pd.DataFrame(data2021_r)\n",
        "data2021_r"
      ],
      "execution_count": 70,
      "outputs": [
        {
          "output_type": "execute_result",
          "data": {
            "text/html": [
              "<div>\n",
              "<style scoped>\n",
              "    .dataframe tbody tr th:only-of-type {\n",
              "        vertical-align: middle;\n",
              "    }\n",
              "\n",
              "    .dataframe tbody tr th {\n",
              "        vertical-align: top;\n",
              "    }\n",
              "\n",
              "    .dataframe thead th {\n",
              "        text-align: right;\n",
              "    }\n",
              "</style>\n",
              "<table border=\"1\" class=\"dataframe\">\n",
              "  <thead>\n",
              "    <tr style=\"text-align: right;\">\n",
              "      <th></th>\n",
              "      <th>Year</th>\n",
              "      <th>Month</th>\n",
              "      <th>Day</th>\n",
              "      <th>EFFR</th>\n",
              "    </tr>\n",
              "  </thead>\n",
              "  <tbody>\n",
              "    <tr>\n",
              "      <th>0</th>\n",
              "      <td>2020</td>\n",
              "      <td>1</td>\n",
              "      <td>1</td>\n",
              "      <td>0.015500</td>\n",
              "    </tr>\n",
              "    <tr>\n",
              "      <th>1</th>\n",
              "      <td>2020</td>\n",
              "      <td>1</td>\n",
              "      <td>2</td>\n",
              "      <td>0.015500</td>\n",
              "    </tr>\n",
              "    <tr>\n",
              "      <th>2</th>\n",
              "      <td>2020</td>\n",
              "      <td>1</td>\n",
              "      <td>3</td>\n",
              "      <td>0.015500</td>\n",
              "    </tr>\n",
              "    <tr>\n",
              "      <th>3</th>\n",
              "      <td>2020</td>\n",
              "      <td>1</td>\n",
              "      <td>4</td>\n",
              "      <td>0.015500</td>\n",
              "    </tr>\n",
              "    <tr>\n",
              "      <th>4</th>\n",
              "      <td>2020</td>\n",
              "      <td>1</td>\n",
              "      <td>5</td>\n",
              "      <td>0.015500</td>\n",
              "    </tr>\n",
              "    <tr>\n",
              "      <th>...</th>\n",
              "      <td>...</td>\n",
              "      <td>...</td>\n",
              "      <td>...</td>\n",
              "      <td>...</td>\n",
              "    </tr>\n",
              "    <tr>\n",
              "      <th>726</th>\n",
              "      <td>2021</td>\n",
              "      <td>12</td>\n",
              "      <td>27</td>\n",
              "      <td>0.000427</td>\n",
              "    </tr>\n",
              "    <tr>\n",
              "      <th>727</th>\n",
              "      <td>2021</td>\n",
              "      <td>12</td>\n",
              "      <td>28</td>\n",
              "      <td>0.000426</td>\n",
              "    </tr>\n",
              "    <tr>\n",
              "      <th>728</th>\n",
              "      <td>2021</td>\n",
              "      <td>12</td>\n",
              "      <td>29</td>\n",
              "      <td>0.000426</td>\n",
              "    </tr>\n",
              "    <tr>\n",
              "      <th>729</th>\n",
              "      <td>2021</td>\n",
              "      <td>12</td>\n",
              "      <td>30</td>\n",
              "      <td>0.000425</td>\n",
              "    </tr>\n",
              "    <tr>\n",
              "      <th>730</th>\n",
              "      <td>2021</td>\n",
              "      <td>12</td>\n",
              "      <td>31</td>\n",
              "      <td>0.000424</td>\n",
              "    </tr>\n",
              "  </tbody>\n",
              "</table>\n",
              "<p>731 rows × 4 columns</p>\n",
              "</div>"
            ],
            "text/plain": [
              "     Year  Month  Day      EFFR\n",
              "0    2020      1    1  0.015500\n",
              "1    2020      1    2  0.015500\n",
              "2    2020      1    3  0.015500\n",
              "3    2020      1    4  0.015500\n",
              "4    2020      1    5  0.015500\n",
              "..    ...    ...  ...       ...\n",
              "726  2021     12   27  0.000427\n",
              "727  2021     12   28  0.000426\n",
              "728  2021     12   29  0.000426\n",
              "729  2021     12   30  0.000425\n",
              "730  2021     12   31  0.000424\n",
              "\n",
              "[731 rows x 4 columns]"
            ]
          },
          "metadata": {
            "tags": []
          },
          "execution_count": 70
        }
      ]
    },
    {
      "cell_type": "markdown",
      "metadata": {
        "id": "HIdf7J0Dv6XH",
        "colab_type": "text"
      },
      "source": [
        "###Fitting to lm_renewed model"
      ]
    },
    {
      "cell_type": "code",
      "metadata": {
        "id": "auMhri9Mv8S9",
        "colab_type": "code",
        "colab": {}
      },
      "source": [
        "google_predictions = lm_renewed.predict(data2021_r)"
      ],
      "execution_count": 71,
      "outputs": []
    },
    {
      "cell_type": "code",
      "metadata": {
        "id": "HoooF99a1BX_",
        "colab_type": "code",
        "colab": {
          "base_uri": "https://localhost:8080/",
          "height": 419
        },
        "outputId": "ad703f57-4580-4734-a381-6f1f04db3798"
      },
      "source": [
        "google_predictions = pd.DataFrame(google_predictions)\n",
        "google_predictions"
      ],
      "execution_count": 72,
      "outputs": [
        {
          "output_type": "execute_result",
          "data": {
            "text/html": [
              "<div>\n",
              "<style scoped>\n",
              "    .dataframe tbody tr th:only-of-type {\n",
              "        vertical-align: middle;\n",
              "    }\n",
              "\n",
              "    .dataframe tbody tr th {\n",
              "        vertical-align: top;\n",
              "    }\n",
              "\n",
              "    .dataframe thead th {\n",
              "        text-align: right;\n",
              "    }\n",
              "</style>\n",
              "<table border=\"1\" class=\"dataframe\">\n",
              "  <thead>\n",
              "    <tr style=\"text-align: right;\">\n",
              "      <th></th>\n",
              "      <th>0</th>\n",
              "    </tr>\n",
              "  </thead>\n",
              "  <tbody>\n",
              "    <tr>\n",
              "      <th>0</th>\n",
              "      <td>1159.068673</td>\n",
              "    </tr>\n",
              "    <tr>\n",
              "      <th>1</th>\n",
              "      <td>1159.167316</td>\n",
              "    </tr>\n",
              "    <tr>\n",
              "      <th>2</th>\n",
              "      <td>1159.265959</td>\n",
              "    </tr>\n",
              "    <tr>\n",
              "      <th>3</th>\n",
              "      <td>1159.364602</td>\n",
              "    </tr>\n",
              "    <tr>\n",
              "      <th>4</th>\n",
              "      <td>1159.463245</td>\n",
              "    </tr>\n",
              "    <tr>\n",
              "      <th>...</th>\n",
              "      <td>...</td>\n",
              "    </tr>\n",
              "    <tr>\n",
              "      <th>726</th>\n",
              "      <td>1221.587513</td>\n",
              "    </tr>\n",
              "    <tr>\n",
              "      <th>727</th>\n",
              "      <td>1221.680375</td>\n",
              "    </tr>\n",
              "    <tr>\n",
              "      <th>728</th>\n",
              "      <td>1221.773237</td>\n",
              "    </tr>\n",
              "    <tr>\n",
              "      <th>729</th>\n",
              "      <td>1221.866099</td>\n",
              "    </tr>\n",
              "    <tr>\n",
              "      <th>730</th>\n",
              "      <td>1221.958962</td>\n",
              "    </tr>\n",
              "  </tbody>\n",
              "</table>\n",
              "<p>731 rows × 1 columns</p>\n",
              "</div>"
            ],
            "text/plain": [
              "               0\n",
              "0    1159.068673\n",
              "1    1159.167316\n",
              "2    1159.265959\n",
              "3    1159.364602\n",
              "4    1159.463245\n",
              "..           ...\n",
              "726  1221.587513\n",
              "727  1221.680375\n",
              "728  1221.773237\n",
              "729  1221.866099\n",
              "730  1221.958962\n",
              "\n",
              "[731 rows x 1 columns]"
            ]
          },
          "metadata": {
            "tags": []
          },
          "execution_count": 72
        }
      ]
    },
    {
      "cell_type": "markdown",
      "metadata": {
        "id": "rQYOo6Ze1M22",
        "colab_type": "text"
      },
      "source": [
        "## Whole data set"
      ]
    },
    {
      "cell_type": "code",
      "metadata": {
        "id": "biMSMTpE1R0F",
        "colab_type": "code",
        "colab": {
          "base_uri": "https://localhost:8080/",
          "height": 419
        },
        "outputId": "0ac5cc99-2451-4609-fbac-fb7a7a754247"
      },
      "source": [
        "data2021[\"Predicted stocks' prices\"] = google_predictions\n",
        "data2021"
      ],
      "execution_count": 73,
      "outputs": [
        {
          "output_type": "execute_result",
          "data": {
            "text/html": [
              "<div>\n",
              "<style scoped>\n",
              "    .dataframe tbody tr th:only-of-type {\n",
              "        vertical-align: middle;\n",
              "    }\n",
              "\n",
              "    .dataframe tbody tr th {\n",
              "        vertical-align: top;\n",
              "    }\n",
              "\n",
              "    .dataframe thead th {\n",
              "        text-align: right;\n",
              "    }\n",
              "</style>\n",
              "<table border=\"1\" class=\"dataframe\">\n",
              "  <thead>\n",
              "    <tr style=\"text-align: right;\">\n",
              "      <th></th>\n",
              "      <th>Year</th>\n",
              "      <th>Month</th>\n",
              "      <th>Day</th>\n",
              "      <th>EFFR</th>\n",
              "      <th>Predicted stocks' prices</th>\n",
              "    </tr>\n",
              "  </thead>\n",
              "  <tbody>\n",
              "    <tr>\n",
              "      <th>0</th>\n",
              "      <td>2020</td>\n",
              "      <td>1</td>\n",
              "      <td>1</td>\n",
              "      <td>0.015500</td>\n",
              "      <td>1159.068673</td>\n",
              "    </tr>\n",
              "    <tr>\n",
              "      <th>1</th>\n",
              "      <td>2020</td>\n",
              "      <td>1</td>\n",
              "      <td>2</td>\n",
              "      <td>0.015500</td>\n",
              "      <td>1159.167316</td>\n",
              "    </tr>\n",
              "    <tr>\n",
              "      <th>2</th>\n",
              "      <td>2020</td>\n",
              "      <td>1</td>\n",
              "      <td>3</td>\n",
              "      <td>0.015500</td>\n",
              "      <td>1159.265959</td>\n",
              "    </tr>\n",
              "    <tr>\n",
              "      <th>3</th>\n",
              "      <td>2020</td>\n",
              "      <td>1</td>\n",
              "      <td>4</td>\n",
              "      <td>0.015500</td>\n",
              "      <td>1159.364602</td>\n",
              "    </tr>\n",
              "    <tr>\n",
              "      <th>4</th>\n",
              "      <td>2020</td>\n",
              "      <td>1</td>\n",
              "      <td>5</td>\n",
              "      <td>0.015500</td>\n",
              "      <td>1159.463245</td>\n",
              "    </tr>\n",
              "    <tr>\n",
              "      <th>...</th>\n",
              "      <td>...</td>\n",
              "      <td>...</td>\n",
              "      <td>...</td>\n",
              "      <td>...</td>\n",
              "      <td>...</td>\n",
              "    </tr>\n",
              "    <tr>\n",
              "      <th>726</th>\n",
              "      <td>2021</td>\n",
              "      <td>12</td>\n",
              "      <td>27</td>\n",
              "      <td>0.000427</td>\n",
              "      <td>1221.587513</td>\n",
              "    </tr>\n",
              "    <tr>\n",
              "      <th>727</th>\n",
              "      <td>2021</td>\n",
              "      <td>12</td>\n",
              "      <td>28</td>\n",
              "      <td>0.000426</td>\n",
              "      <td>1221.680375</td>\n",
              "    </tr>\n",
              "    <tr>\n",
              "      <th>728</th>\n",
              "      <td>2021</td>\n",
              "      <td>12</td>\n",
              "      <td>29</td>\n",
              "      <td>0.000426</td>\n",
              "      <td>1221.773237</td>\n",
              "    </tr>\n",
              "    <tr>\n",
              "      <th>729</th>\n",
              "      <td>2021</td>\n",
              "      <td>12</td>\n",
              "      <td>30</td>\n",
              "      <td>0.000425</td>\n",
              "      <td>1221.866099</td>\n",
              "    </tr>\n",
              "    <tr>\n",
              "      <th>730</th>\n",
              "      <td>2021</td>\n",
              "      <td>12</td>\n",
              "      <td>31</td>\n",
              "      <td>0.000424</td>\n",
              "      <td>1221.958962</td>\n",
              "    </tr>\n",
              "  </tbody>\n",
              "</table>\n",
              "<p>731 rows × 5 columns</p>\n",
              "</div>"
            ],
            "text/plain": [
              "     Year  Month  Day      EFFR  Predicted stocks' prices\n",
              "0    2020      1    1  0.015500               1159.068673\n",
              "1    2020      1    2  0.015500               1159.167316\n",
              "2    2020      1    3  0.015500               1159.265959\n",
              "3    2020      1    4  0.015500               1159.364602\n",
              "4    2020      1    5  0.015500               1159.463245\n",
              "..    ...    ...  ...       ...                       ...\n",
              "726  2021     12   27  0.000427               1221.587513\n",
              "727  2021     12   28  0.000426               1221.680375\n",
              "728  2021     12   29  0.000426               1221.773237\n",
              "729  2021     12   30  0.000425               1221.866099\n",
              "730  2021     12   31  0.000424               1221.958962\n",
              "\n",
              "[731 rows x 5 columns]"
            ]
          },
          "metadata": {
            "tags": []
          },
          "execution_count": 73
        }
      ]
    },
    {
      "cell_type": "markdown",
      "metadata": {
        "id": "wm6tIX-Mmocg",
        "colab_type": "text"
      },
      "source": [
        "#Data visualization"
      ]
    },
    {
      "cell_type": "markdown",
      "metadata": {
        "id": "xkv0gp9V3qk7",
        "colab_type": "text"
      },
      "source": [
        "##To datetime"
      ]
    },
    {
      "cell_type": "code",
      "metadata": {
        "id": "a1UohSugpWjs",
        "colab_type": "code",
        "colab": {}
      },
      "source": [
        "def Date(cols):\n",
        "  Year = cols[0]\n",
        "  Month = cols[1]\n",
        "  Day = cols[2]\n",
        "\n",
        "  if Day <= 9:\n",
        "    d = '%d%d'%(0,Day)\n",
        "  else:\n",
        "    d = str(Day)\n",
        "  if Month <= 9:\n",
        "    m = '%d%d'%(0,Month)\n",
        "  else:\n",
        "    m = str(Month)\n",
        "\n",
        "  return ('%d-%s-%s' % (Year,m,d))"
      ],
      "execution_count": 74,
      "outputs": []
    },
    {
      "cell_type": "code",
      "metadata": {
        "id": "C5Fmg7KtnKez",
        "colab_type": "code",
        "colab": {
          "base_uri": "https://localhost:8080/",
          "height": 419
        },
        "outputId": "ea0d8a8c-e722-4caa-c8de-b5bab55e5911"
      },
      "source": [
        "data2021['DATE'] = data2021[['Year','Month','Day']].apply(Date,axis=1)\n",
        "data2021"
      ],
      "execution_count": 75,
      "outputs": [
        {
          "output_type": "execute_result",
          "data": {
            "text/html": [
              "<div>\n",
              "<style scoped>\n",
              "    .dataframe tbody tr th:only-of-type {\n",
              "        vertical-align: middle;\n",
              "    }\n",
              "\n",
              "    .dataframe tbody tr th {\n",
              "        vertical-align: top;\n",
              "    }\n",
              "\n",
              "    .dataframe thead th {\n",
              "        text-align: right;\n",
              "    }\n",
              "</style>\n",
              "<table border=\"1\" class=\"dataframe\">\n",
              "  <thead>\n",
              "    <tr style=\"text-align: right;\">\n",
              "      <th></th>\n",
              "      <th>Year</th>\n",
              "      <th>Month</th>\n",
              "      <th>Day</th>\n",
              "      <th>EFFR</th>\n",
              "      <th>Predicted stocks' prices</th>\n",
              "      <th>DATE</th>\n",
              "    </tr>\n",
              "  </thead>\n",
              "  <tbody>\n",
              "    <tr>\n",
              "      <th>0</th>\n",
              "      <td>2020</td>\n",
              "      <td>1</td>\n",
              "      <td>1</td>\n",
              "      <td>0.015500</td>\n",
              "      <td>1159.068673</td>\n",
              "      <td>2020-01-01</td>\n",
              "    </tr>\n",
              "    <tr>\n",
              "      <th>1</th>\n",
              "      <td>2020</td>\n",
              "      <td>1</td>\n",
              "      <td>2</td>\n",
              "      <td>0.015500</td>\n",
              "      <td>1159.167316</td>\n",
              "      <td>2020-01-02</td>\n",
              "    </tr>\n",
              "    <tr>\n",
              "      <th>2</th>\n",
              "      <td>2020</td>\n",
              "      <td>1</td>\n",
              "      <td>3</td>\n",
              "      <td>0.015500</td>\n",
              "      <td>1159.265959</td>\n",
              "      <td>2020-01-03</td>\n",
              "    </tr>\n",
              "    <tr>\n",
              "      <th>3</th>\n",
              "      <td>2020</td>\n",
              "      <td>1</td>\n",
              "      <td>4</td>\n",
              "      <td>0.015500</td>\n",
              "      <td>1159.364602</td>\n",
              "      <td>2020-01-04</td>\n",
              "    </tr>\n",
              "    <tr>\n",
              "      <th>4</th>\n",
              "      <td>2020</td>\n",
              "      <td>1</td>\n",
              "      <td>5</td>\n",
              "      <td>0.015500</td>\n",
              "      <td>1159.463245</td>\n",
              "      <td>2020-01-05</td>\n",
              "    </tr>\n",
              "    <tr>\n",
              "      <th>...</th>\n",
              "      <td>...</td>\n",
              "      <td>...</td>\n",
              "      <td>...</td>\n",
              "      <td>...</td>\n",
              "      <td>...</td>\n",
              "      <td>...</td>\n",
              "    </tr>\n",
              "    <tr>\n",
              "      <th>726</th>\n",
              "      <td>2021</td>\n",
              "      <td>12</td>\n",
              "      <td>27</td>\n",
              "      <td>0.000427</td>\n",
              "      <td>1221.587513</td>\n",
              "      <td>2021-12-27</td>\n",
              "    </tr>\n",
              "    <tr>\n",
              "      <th>727</th>\n",
              "      <td>2021</td>\n",
              "      <td>12</td>\n",
              "      <td>28</td>\n",
              "      <td>0.000426</td>\n",
              "      <td>1221.680375</td>\n",
              "      <td>2021-12-28</td>\n",
              "    </tr>\n",
              "    <tr>\n",
              "      <th>728</th>\n",
              "      <td>2021</td>\n",
              "      <td>12</td>\n",
              "      <td>29</td>\n",
              "      <td>0.000426</td>\n",
              "      <td>1221.773237</td>\n",
              "      <td>2021-12-29</td>\n",
              "    </tr>\n",
              "    <tr>\n",
              "      <th>729</th>\n",
              "      <td>2021</td>\n",
              "      <td>12</td>\n",
              "      <td>30</td>\n",
              "      <td>0.000425</td>\n",
              "      <td>1221.866099</td>\n",
              "      <td>2021-12-30</td>\n",
              "    </tr>\n",
              "    <tr>\n",
              "      <th>730</th>\n",
              "      <td>2021</td>\n",
              "      <td>12</td>\n",
              "      <td>31</td>\n",
              "      <td>0.000424</td>\n",
              "      <td>1221.958962</td>\n",
              "      <td>2021-12-31</td>\n",
              "    </tr>\n",
              "  </tbody>\n",
              "</table>\n",
              "<p>731 rows × 6 columns</p>\n",
              "</div>"
            ],
            "text/plain": [
              "     Year  Month  Day      EFFR  Predicted stocks' prices        DATE\n",
              "0    2020      1    1  0.015500               1159.068673  2020-01-01\n",
              "1    2020      1    2  0.015500               1159.167316  2020-01-02\n",
              "2    2020      1    3  0.015500               1159.265959  2020-01-03\n",
              "3    2020      1    4  0.015500               1159.364602  2020-01-04\n",
              "4    2020      1    5  0.015500               1159.463245  2020-01-05\n",
              "..    ...    ...  ...       ...                       ...         ...\n",
              "726  2021     12   27  0.000427               1221.587513  2021-12-27\n",
              "727  2021     12   28  0.000426               1221.680375  2021-12-28\n",
              "728  2021     12   29  0.000426               1221.773237  2021-12-29\n",
              "729  2021     12   30  0.000425               1221.866099  2021-12-30\n",
              "730  2021     12   31  0.000424               1221.958962  2021-12-31\n",
              "\n",
              "[731 rows x 6 columns]"
            ]
          },
          "metadata": {
            "tags": []
          },
          "execution_count": 75
        }
      ]
    },
    {
      "cell_type": "code",
      "metadata": {
        "id": "mkCggRQdsgPB",
        "colab_type": "code",
        "colab": {
          "base_uri": "https://localhost:8080/",
          "height": 419
        },
        "outputId": "51f2ed24-f3cb-4988-c355-8bf44a63af57"
      },
      "source": [
        "from datetime import datetime\n",
        "\n",
        "data2021['DATE'] = data2021['DATE'].apply(lambda x: datetime.strptime(x, '%Y-%m-%d'))\n",
        "data2021"
      ],
      "execution_count": 76,
      "outputs": [
        {
          "output_type": "execute_result",
          "data": {
            "text/html": [
              "<div>\n",
              "<style scoped>\n",
              "    .dataframe tbody tr th:only-of-type {\n",
              "        vertical-align: middle;\n",
              "    }\n",
              "\n",
              "    .dataframe tbody tr th {\n",
              "        vertical-align: top;\n",
              "    }\n",
              "\n",
              "    .dataframe thead th {\n",
              "        text-align: right;\n",
              "    }\n",
              "</style>\n",
              "<table border=\"1\" class=\"dataframe\">\n",
              "  <thead>\n",
              "    <tr style=\"text-align: right;\">\n",
              "      <th></th>\n",
              "      <th>Year</th>\n",
              "      <th>Month</th>\n",
              "      <th>Day</th>\n",
              "      <th>EFFR</th>\n",
              "      <th>Predicted stocks' prices</th>\n",
              "      <th>DATE</th>\n",
              "    </tr>\n",
              "  </thead>\n",
              "  <tbody>\n",
              "    <tr>\n",
              "      <th>0</th>\n",
              "      <td>2020</td>\n",
              "      <td>1</td>\n",
              "      <td>1</td>\n",
              "      <td>0.015500</td>\n",
              "      <td>1159.068673</td>\n",
              "      <td>2020-01-01</td>\n",
              "    </tr>\n",
              "    <tr>\n",
              "      <th>1</th>\n",
              "      <td>2020</td>\n",
              "      <td>1</td>\n",
              "      <td>2</td>\n",
              "      <td>0.015500</td>\n",
              "      <td>1159.167316</td>\n",
              "      <td>2020-01-02</td>\n",
              "    </tr>\n",
              "    <tr>\n",
              "      <th>2</th>\n",
              "      <td>2020</td>\n",
              "      <td>1</td>\n",
              "      <td>3</td>\n",
              "      <td>0.015500</td>\n",
              "      <td>1159.265959</td>\n",
              "      <td>2020-01-03</td>\n",
              "    </tr>\n",
              "    <tr>\n",
              "      <th>3</th>\n",
              "      <td>2020</td>\n",
              "      <td>1</td>\n",
              "      <td>4</td>\n",
              "      <td>0.015500</td>\n",
              "      <td>1159.364602</td>\n",
              "      <td>2020-01-04</td>\n",
              "    </tr>\n",
              "    <tr>\n",
              "      <th>4</th>\n",
              "      <td>2020</td>\n",
              "      <td>1</td>\n",
              "      <td>5</td>\n",
              "      <td>0.015500</td>\n",
              "      <td>1159.463245</td>\n",
              "      <td>2020-01-05</td>\n",
              "    </tr>\n",
              "    <tr>\n",
              "      <th>...</th>\n",
              "      <td>...</td>\n",
              "      <td>...</td>\n",
              "      <td>...</td>\n",
              "      <td>...</td>\n",
              "      <td>...</td>\n",
              "      <td>...</td>\n",
              "    </tr>\n",
              "    <tr>\n",
              "      <th>726</th>\n",
              "      <td>2021</td>\n",
              "      <td>12</td>\n",
              "      <td>27</td>\n",
              "      <td>0.000427</td>\n",
              "      <td>1221.587513</td>\n",
              "      <td>2021-12-27</td>\n",
              "    </tr>\n",
              "    <tr>\n",
              "      <th>727</th>\n",
              "      <td>2021</td>\n",
              "      <td>12</td>\n",
              "      <td>28</td>\n",
              "      <td>0.000426</td>\n",
              "      <td>1221.680375</td>\n",
              "      <td>2021-12-28</td>\n",
              "    </tr>\n",
              "    <tr>\n",
              "      <th>728</th>\n",
              "      <td>2021</td>\n",
              "      <td>12</td>\n",
              "      <td>29</td>\n",
              "      <td>0.000426</td>\n",
              "      <td>1221.773237</td>\n",
              "      <td>2021-12-29</td>\n",
              "    </tr>\n",
              "    <tr>\n",
              "      <th>729</th>\n",
              "      <td>2021</td>\n",
              "      <td>12</td>\n",
              "      <td>30</td>\n",
              "      <td>0.000425</td>\n",
              "      <td>1221.866099</td>\n",
              "      <td>2021-12-30</td>\n",
              "    </tr>\n",
              "    <tr>\n",
              "      <th>730</th>\n",
              "      <td>2021</td>\n",
              "      <td>12</td>\n",
              "      <td>31</td>\n",
              "      <td>0.000424</td>\n",
              "      <td>1221.958962</td>\n",
              "      <td>2021-12-31</td>\n",
              "    </tr>\n",
              "  </tbody>\n",
              "</table>\n",
              "<p>731 rows × 6 columns</p>\n",
              "</div>"
            ],
            "text/plain": [
              "     Year  Month  Day      EFFR  Predicted stocks' prices       DATE\n",
              "0    2020      1    1  0.015500               1159.068673 2020-01-01\n",
              "1    2020      1    2  0.015500               1159.167316 2020-01-02\n",
              "2    2020      1    3  0.015500               1159.265959 2020-01-03\n",
              "3    2020      1    4  0.015500               1159.364602 2020-01-04\n",
              "4    2020      1    5  0.015500               1159.463245 2020-01-05\n",
              "..    ...    ...  ...       ...                       ...        ...\n",
              "726  2021     12   27  0.000427               1221.587513 2021-12-27\n",
              "727  2021     12   28  0.000426               1221.680375 2021-12-28\n",
              "728  2021     12   29  0.000426               1221.773237 2021-12-29\n",
              "729  2021     12   30  0.000425               1221.866099 2021-12-30\n",
              "730  2021     12   31  0.000424               1221.958962 2021-12-31\n",
              "\n",
              "[731 rows x 6 columns]"
            ]
          },
          "metadata": {
            "tags": []
          },
          "execution_count": 76
        }
      ]
    },
    {
      "cell_type": "code",
      "metadata": {
        "id": "ma0-sP3quLYR",
        "colab_type": "code",
        "colab": {
          "base_uri": "https://localhost:8080/",
          "height": 34
        },
        "outputId": "cf883719-3db9-43cc-9726-6aebefb99f62"
      },
      "source": [
        "type(data2021.iloc[0,-1])"
      ],
      "execution_count": 77,
      "outputs": [
        {
          "output_type": "execute_result",
          "data": {
            "text/plain": [
              "pandas._libs.tslibs.timestamps.Timestamp"
            ]
          },
          "metadata": {
            "tags": []
          },
          "execution_count": 77
        }
      ]
    },
    {
      "cell_type": "code",
      "metadata": {
        "id": "l5fehEwTyne4",
        "colab_type": "code",
        "colab": {
          "base_uri": "https://localhost:8080/",
          "height": 419
        },
        "outputId": "98b4f62e-3322-40e0-f6ad-fba554ffb948"
      },
      "source": [
        "ts = data2021[[\"DATE\",\"Predicted stocks' prices\"]]\n",
        "ts"
      ],
      "execution_count": 78,
      "outputs": [
        {
          "output_type": "execute_result",
          "data": {
            "text/html": [
              "<div>\n",
              "<style scoped>\n",
              "    .dataframe tbody tr th:only-of-type {\n",
              "        vertical-align: middle;\n",
              "    }\n",
              "\n",
              "    .dataframe tbody tr th {\n",
              "        vertical-align: top;\n",
              "    }\n",
              "\n",
              "    .dataframe thead th {\n",
              "        text-align: right;\n",
              "    }\n",
              "</style>\n",
              "<table border=\"1\" class=\"dataframe\">\n",
              "  <thead>\n",
              "    <tr style=\"text-align: right;\">\n",
              "      <th></th>\n",
              "      <th>DATE</th>\n",
              "      <th>Predicted stocks' prices</th>\n",
              "    </tr>\n",
              "  </thead>\n",
              "  <tbody>\n",
              "    <tr>\n",
              "      <th>0</th>\n",
              "      <td>2020-01-01</td>\n",
              "      <td>1159.068673</td>\n",
              "    </tr>\n",
              "    <tr>\n",
              "      <th>1</th>\n",
              "      <td>2020-01-02</td>\n",
              "      <td>1159.167316</td>\n",
              "    </tr>\n",
              "    <tr>\n",
              "      <th>2</th>\n",
              "      <td>2020-01-03</td>\n",
              "      <td>1159.265959</td>\n",
              "    </tr>\n",
              "    <tr>\n",
              "      <th>3</th>\n",
              "      <td>2020-01-04</td>\n",
              "      <td>1159.364602</td>\n",
              "    </tr>\n",
              "    <tr>\n",
              "      <th>4</th>\n",
              "      <td>2020-01-05</td>\n",
              "      <td>1159.463245</td>\n",
              "    </tr>\n",
              "    <tr>\n",
              "      <th>...</th>\n",
              "      <td>...</td>\n",
              "      <td>...</td>\n",
              "    </tr>\n",
              "    <tr>\n",
              "      <th>726</th>\n",
              "      <td>2021-12-27</td>\n",
              "      <td>1221.587513</td>\n",
              "    </tr>\n",
              "    <tr>\n",
              "      <th>727</th>\n",
              "      <td>2021-12-28</td>\n",
              "      <td>1221.680375</td>\n",
              "    </tr>\n",
              "    <tr>\n",
              "      <th>728</th>\n",
              "      <td>2021-12-29</td>\n",
              "      <td>1221.773237</td>\n",
              "    </tr>\n",
              "    <tr>\n",
              "      <th>729</th>\n",
              "      <td>2021-12-30</td>\n",
              "      <td>1221.866099</td>\n",
              "    </tr>\n",
              "    <tr>\n",
              "      <th>730</th>\n",
              "      <td>2021-12-31</td>\n",
              "      <td>1221.958962</td>\n",
              "    </tr>\n",
              "  </tbody>\n",
              "</table>\n",
              "<p>731 rows × 2 columns</p>\n",
              "</div>"
            ],
            "text/plain": [
              "          DATE  Predicted stocks' prices\n",
              "0   2020-01-01               1159.068673\n",
              "1   2020-01-02               1159.167316\n",
              "2   2020-01-03               1159.265959\n",
              "3   2020-01-04               1159.364602\n",
              "4   2020-01-05               1159.463245\n",
              "..         ...                       ...\n",
              "726 2021-12-27               1221.587513\n",
              "727 2021-12-28               1221.680375\n",
              "728 2021-12-29               1221.773237\n",
              "729 2021-12-30               1221.866099\n",
              "730 2021-12-31               1221.958962\n",
              "\n",
              "[731 rows x 2 columns]"
            ]
          },
          "metadata": {
            "tags": []
          },
          "execution_count": 78
        }
      ]
    },
    {
      "cell_type": "code",
      "metadata": {
        "id": "yN9p4YpP1AVT",
        "colab_type": "code",
        "colab": {
          "base_uri": "https://localhost:8080/",
          "height": 34
        },
        "outputId": "4c0e1820-5c00-4cb2-fef2-838414e12516"
      },
      "source": [
        "type(ts['DATE'])"
      ],
      "execution_count": 79,
      "outputs": [
        {
          "output_type": "execute_result",
          "data": {
            "text/plain": [
              "pandas.core.series.Series"
            ]
          },
          "metadata": {
            "tags": []
          },
          "execution_count": 79
        }
      ]
    },
    {
      "cell_type": "code",
      "metadata": {
        "id": "6GdjbwOo24Rj",
        "colab_type": "code",
        "colab": {
          "base_uri": "https://localhost:8080/",
          "height": 119
        },
        "outputId": "ca3ddb76-dce3-456b-f55e-d0a0bc745332"
      },
      "source": [
        "ts.DATE = pd.to_datetime(ts.DATE)\n",
        "ts.set_index('DATE',inplace=True)"
      ],
      "execution_count": 80,
      "outputs": [
        {
          "output_type": "stream",
          "text": [
            "/usr/local/lib/python3.6/dist-packages/pandas/core/generic.py:5303: SettingWithCopyWarning: \n",
            "A value is trying to be set on a copy of a slice from a DataFrame.\n",
            "Try using .loc[row_indexer,col_indexer] = value instead\n",
            "\n",
            "See the caveats in the documentation: https://pandas.pydata.org/pandas-docs/stable/user_guide/indexing.html#returning-a-view-versus-a-copy\n",
            "  self[name] = value\n"
          ],
          "name": "stderr"
        }
      ]
    },
    {
      "cell_type": "markdown",
      "metadata": {
        "id": "yqAuhLWq3vU_",
        "colab_type": "text"
      },
      "source": [
        "##Final plot"
      ]
    },
    {
      "cell_type": "code",
      "metadata": {
        "id": "Vxrid9sm-PQI",
        "colab_type": "code",
        "colab": {}
      },
      "source": [
        "fig = plt.figure(figsize=(25,10))\n",
        "\n",
        "plt.xlabel(\"Date\")\n",
        "plt.ylabel('Stock price')\n",
        "plt.plot(ts)\n",
        "plt.savefig('google_predict.png')\n",
        "plt.close(fig)"
      ],
      "execution_count": 81,
      "outputs": []
    },
    {
      "cell_type": "code",
      "metadata": {
        "id": "_TjNxKxN_Oyh",
        "colab_type": "code",
        "colab": {
          "base_uri": "https://localhost:8080/",
          "height": 525
        },
        "outputId": "82edb88b-bc8f-4453-a89d-055d12e3f5b8"
      },
      "source": [
        "fig = plt.figure(figsize=(25,10))\n",
        "\n",
        "plt.xlabel(\"Date\")\n",
        "plt.ylabel('Stock price')\n",
        "plt.plot(ts)\n",
        "plt.savefig('google_predict.png')"
      ],
      "execution_count": 82,
      "outputs": [
        {
          "output_type": "display_data",
          "data": {
            "image/png": "[encoded data removed]",
            "text/plain": [
              "<Figure size 1800x720 with 1 Axes>"
            ]
          },
          "metadata": {
            "tags": [],
            "needs_background": "light"
          }
        }
      ]
    },
    {
      "cell_type": "markdown",
      "metadata": {
        "id": "6wYNbiq14FH9",
        "colab_type": "text"
      },
      "source": [
        "As we can see our model predicted slump due to COVID-19 correctly. Ofcourse I used unknown data that time, information about Effective Federal Funds Rate. According to very low EFFR model was able to predict upcoming outbreak."
      ]
    }
  ]
}